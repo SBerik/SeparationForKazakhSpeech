{
 "cells": [
  {
   "cell_type": "code",
   "execution_count": 1,
   "id": "17b12d53-032d-4f10-8eec-43fef00cd134",
   "metadata": {},
   "outputs": [],
   "source": [
    "import librosa\n",
    "import soundfile as sf\n",
    "import numpy as np"
   ]
  },
  {
   "cell_type": "code",
   "execution_count": 2,
   "id": "17fc5d49-736c-4b68-b03e-d42cc0dfa909",
   "metadata": {},
   "outputs": [],
   "source": [
    "# Хочется придумать код который бы сохранил один .csv\n",
    "# Внутри его будет \n",
    "# path to mixed_audio | path to audio_1 | path to audio_2"
   ]
  },
  {
   "cell_type": "markdown",
   "id": "2e2d39b7-a6ae-4a9d-b5e6-758112a46c49",
   "metadata": {},
   "source": [
    "For a sample"
   ]
  },
  {
   "cell_type": "code",
   "execution_count": 3,
   "id": "c9ae63b6-f99a-48ef-98fb-8f017cb0eda1",
   "metadata": {},
   "outputs": [],
   "source": [
    "# Загрузка двух WAV файлов\n",
    "y1, sr1 = librosa.load(\"C:/Users/b.smadiarov/Diploma/DualPathRNN/data/samples/5ed8a1c0f3ea2.flac\", sr=16000)\n",
    "y2, sr2 = librosa.load(\"C:/Users/b.smadiarov/Diploma/DualPathRNN/data/samples/5f2b0a06ceb18.flac\", sr=16000)"
   ]
  },
  {
   "cell_type": "code",
   "execution_count": 6,
   "id": "b93f5e0b-e254-4d36-9de8-da0534bb5fc2",
   "metadata": {},
   "outputs": [],
   "source": [
    "# Приведение длительности и частоты дискретизации к одинаковым значениям\n",
    "if sr1 != sr2:\n",
    "    raise ValueError(\"Частоты дискретизации файлов должны совпадать!\")\n",
    "min_length = min(len(y1), len(y2))\n",
    "y1 = y1[:min_length]\n",
    "y2 = y2[:min_length]\n",
    "\n",
    "# Наложение (суммирование сигналов)\n",
    "overlay = y1 + y2\n",
    "# overlay = np.clip(overlay, -1.0, 1.0)  # Для предотвращения переполнения\n",
    "\n",
    "sf.write(\"C:/Users/b.smadiarov/Diploma/DualPathRNN/data/samples/5ed8a1c0f3ea2_5f2b0a06ceb18.flac\", overlay, sr1)"
   ]
  },
  {
   "cell_type": "markdown",
   "id": "8aa42bef-dee8-42c9-8298-d5e74e928588",
   "metadata": {},
   "source": [
    "For samples"
   ]
  },
  {
   "cell_type": "code",
   "execution_count": null,
   "id": "6ced80ce-be7b-44b2-ab58-7b84fa5809bd",
   "metadata": {},
   "outputs": [],
   "source": []
  },
  {
   "cell_type": "code",
   "execution_count": null,
   "id": "8a3db5b2-2c48-47cc-a0de-3840a9066dac",
   "metadata": {},
   "outputs": [],
   "source": []
  },
  {
   "cell_type": "code",
   "execution_count": null,
   "id": "ace57180-e851-423e-8e72-98ade37abd2a",
   "metadata": {},
   "outputs": [],
   "source": []
  }
 ],
 "metadata": {
  "kernelspec": {
   "display_name": "Python 3 (ipykernel)",
   "language": "python",
   "name": "python3"
  },
  "language_info": {
   "codemirror_mode": {
    "name": "ipython",
    "version": 3
   },
   "file_extension": ".py",
   "mimetype": "text/x-python",
   "name": "python",
   "nbconvert_exporter": "python",
   "pygments_lexer": "ipython3",
   "version": "3.9.0"
  }
 },
 "nbformat": 4,
 "nbformat_minor": 5
}
