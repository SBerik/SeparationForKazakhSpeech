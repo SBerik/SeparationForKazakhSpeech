{
 "cells": [
  {
   "cell_type": "code",
   "execution_count": 1,
   "id": "cd79ddc1-7717-43de-a765-b5d7710837e8",
   "metadata": {},
   "outputs": [],
   "source": [
    "import os\n",
    "import torch\n",
    "import argparse\n",
    "import tqdm"
   ]
  },
  {
   "cell_type": "code",
   "execution_count": 2,
   "id": "fef1b2f2-f23a-4f14-9cbd-144dbdbbe7a1",
   "metadata": {},
   "outputs": [],
   "source": [
    "import torchaudio\n",
    "import os.path as ospth\n",
    "\n",
    "def get_file_name(file_path: str):\n",
    "    return ospth.splitext(ospth.basename(file_path))[0]\n",
    "\n",
    "def read_wav(fname, return_rate=False):\n",
    "    src, sr = torchaudio.load(fname, channels_first=True)\n",
    "    if return_rate:\n",
    "        return src.squeeze(), sr\n",
    "    else:\n",
    "        return src.squeeze()\n",
    "\n",
    "def write_wav(fname, src, sample_rate):\n",
    "    torchaudio.save(fname, src, sample_rate)"
   ]
  },
  {
   "cell_type": "code",
   "execution_count": 3,
   "id": "44d585ed-23ef-4c5b-a345-b47f6612eab5",
   "metadata": {},
   "outputs": [],
   "source": [
    "import torch \n",
    "from models.model_rnn import Dual_RNN_model\n",
    "from utils.load_config import load_config \n",
    "\n",
    "class Separation():\n",
    "    def __init__(self, mixed_sample, yaml_path, weight, gpuid = 0):\n",
    "        super(Separation, self).__init__()\n",
    "        self.name = get_file_name (mixed_sample)\n",
    "        self.mix = read_wav(mixed_sample)\n",
    "        cfg = load_config(yaml_path)\n",
    "        self.net = Dual_RNN_model(**cfg['model'])\n",
    "        self.net.to('cpu')\n",
    "        dicts = torch.load(weight, map_location='cpu')\n",
    "        self.net.load_state_dict(dicts['model_state_dict'])\n",
    "        self.gpuid = gpuid\n",
    "    \n",
    "    def inference(self, file_path):\n",
    "        self.net.eval()\n",
    "        with torch.no_grad():\n",
    "            egs=self.mix\n",
    "            norm = torch.norm(egs,float('inf'))\n",
    "            if len(self.gpuid) != 0:\n",
    "                if egs.dim() == 1:\n",
    "                    egs = torch.unsqueeze(egs, 0)\n",
    "                ests=self.net(egs)\n",
    "                spks=[torch.squeeze(s.detach().cpu()) for s in ests]\n",
    "            else:\n",
    "                if egs.dim() == 1:\n",
    "                    egs = torch.unsqueeze(egs, 0)\n",
    "                ests=self.net(egs)\n",
    "                print(ests[0].shape)\n",
    "                spks=[torch.squeeze(s.detach()) for s in ests]\n",
    "            index=0\n",
    "            for s in spks:\n",
    "                # Normalize\n",
    "                s = s - torch.mean(s)\n",
    "                s = s * norm / torch.max(torch.abs(s))\n",
    "                index += 1\n",
    "                os.makedirs(file_path + '/spk' + str(index), exist_ok=True)\n",
    "                filename = file_path + '/spk' + str(index) + '/' + self.name + 'test.flac'\n",
    "                write_wav(filename, s.unsqueeze(0), 16000)\n",
    "                print('saved in:', filename)"
   ]
  },
  {
   "cell_type": "code",
   "execution_count": 4,
   "id": "c4c8ee12-2e71-41b2-8694-e17371527cef",
   "metadata": {},
   "outputs": [
    {
     "name": "stdout",
     "output_type": "stream",
     "text": [
      "saved in: ./samples/spk1/f1_inform_1051_00_f1_inform_1082_00test.flac\n",
      "saved in: ./samples/spk2/f1_inform_1051_00_f1_inform_1082_00test.flac\n"
     ]
    }
   ],
   "source": [
    "import argparse\n",
    "import sys\n",
    "\n",
    "parser=argparse.ArgumentParser()\n",
    "parser.add_argument('-m', '--mixed_sample', type=str, default='./samples/f1_inform_1051_00_f1_inform_1082_00.flac', help='Path to mix scp file.')\n",
    "parser.add_argument('-c', '--config', type=str, default='./configs/train_rnn.yml', help='Path to yaml file.')\n",
    "parser.add_argument('-w', '--weight', type=str, default='./weights/Dual_Path_RNN_49_-1.2763.pt', help=\"Path to model file.\")\n",
    "parser.add_argument('-g', '--gpuid', type=str, default='0', help='Enter GPU id number')\n",
    "parser.add_argument('-s', '--save_path', type=str, default='./samples', help='save result path')\n",
    "args, _ = parser.parse_known_args()\n",
    "\n",
    "gpuid=[int(i) for i in args.gpuid.split(',')]\n",
    "separation=Separation(args.mixed_sample, args.config, args.weight, gpuid)\n",
    "separation.inference(args.save_path)"
   ]
  },
  {
   "cell_type": "code",
   "execution_count": null,
   "id": "703750b9-2666-499c-8cbd-26f06f8591d4",
   "metadata": {},
   "outputs": [],
   "source": []
  },
  {
   "cell_type": "code",
   "execution_count": null,
   "id": "7aca851a-2bac-46f0-bdd3-8489f05d9c72",
   "metadata": {},
   "outputs": [],
   "source": []
  }
 ],
 "metadata": {
  "kernelspec": {
   "display_name": "Python 3 (ipykernel)",
   "language": "python",
   "name": "python3"
  },
  "language_info": {
   "codemirror_mode": {
    "name": "ipython",
    "version": 3
   },
   "file_extension": ".py",
   "mimetype": "text/x-python",
   "name": "python",
   "nbconvert_exporter": "python",
   "pygments_lexer": "ipython3",
   "version": "3.9.0"
  }
 },
 "nbformat": 4,
 "nbformat_minor": 5
}
