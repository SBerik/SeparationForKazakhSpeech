{
 "cells": [
  {
   "cell_type": "markdown",
   "id": "a9781ce0-4c01-408c-9201-80533751f2e6",
   "metadata": {},
   "source": [
    "**Inferenced**"
   ]
  },
  {
   "cell_type": "code",
   "execution_count": 2,
   "id": "703750b9-2666-499c-8cbd-26f06f8591d4",
   "metadata": {},
   "outputs": [
    {
     "name": "stdout",
     "output_type": "stream",
     "text": [
      "saved in: samples/DualPath_RNN/spk1/60dac2a791cc1.flac\n",
      "saved in: samples/DualPath_RNN/spk2/5eed8296d6b96.flac\n"
     ]
    }
   ],
   "source": [
    "!python inference.py -m samples/5eed8296d6b96_60dac2a791cc1.flac -c configs/train_rnn.yml -w weights/__DualPath_RNN_179_-3.1895.pt -s samples"
   ]
  },
  {
   "cell_type": "markdown",
   "id": "30f3742a-85e3-418f-8bb6-c27fcc86187f",
   "metadata": {},
   "source": [
    "**Ploting loss**"
   ]
  },
  {
   "cell_type": "code",
   "execution_count": null,
   "id": "2c03a91f-a2f3-4695-812b-38e326078972",
   "metadata": {},
   "outputs": [],
   "source": [
    "from utils.plot import save_graph_tb_log_metrics\n",
    "\n",
    "save_graph_tb_log_metrics(\n",
    "    first_csv_path='checkpoints/train_rnn/Loss_Train.csv',\n",
    "    second_csv_path='checkpoints/train_rnn/Loss_Validation.csv',\n",
    "    name_ox='Epoch',\n",
    "    name_oy='Loss',\n",
    "    loc = 'upper right',\n",
    "    pth_save='pics/Loss_Train_Val.png'\n",
    ")"
   ]
  },
  {
   "cell_type": "markdown",
   "id": "3e46aa34-d92a-4ad6-b5c7-6389bc9990bc",
   "metadata": {},
   "source": [
    "**Evaluation**"
   ]
  },
  {
   "cell_type": "code",
   "execution_count": 1,
   "id": "59699b45-9b84-439a-92e5-07517a67b832",
   "metadata": {},
   "outputs": [],
   "source": [
    "import argparse\n",
    "import sys\n",
    "\n",
    "import torch\n",
    "from torchmetrics.audio import PermutationInvariantTraining as PIT\n",
    "from torchmetrics.functional.audio import signal_distortion_ratio as sdr\n",
    "from torchmetrics.functional.audio import scale_invariant_signal_noise_ratio as sisnr\n",
    "# from torchmetrics.audio import ScaleInvariantSignalNoiseRatio as sisnr\n",
    "from tqdm.notebook import tqdm\n",
    "\n",
    "# from losses import sisnr_pit\n",
    "from utils.load_config import load_config  \n",
    "from models import MODELS\n",
    "from data.DiarizationDataset import DiarizationDataset\n",
    "\n",
    "parser = argparse.ArgumentParser()\n",
    "parser.add_argument(\"-p\", \"--hparams\", type=str, default=\"./configs/dev_dualpathrnn.yml\", help=\"hparams config file\")\n",
    "args, unknown = parser.parse_known_args()  \n",
    "cfg = load_config(args.hparams)"
   ]
  },
  {
   "cell_type": "markdown",
   "id": "ce22c17c-19a5-447c-914d-45ebaec77ac1",
   "metadata": {},
   "source": [
    "**Dualpath-RNN**"
   ]
  },
  {
   "cell_type": "code",
   "execution_count": 2,
   "id": "399075ba-e958-424c-a709-235afabbc34c",
   "metadata": {},
   "outputs": [
    {
     "name": "stdout",
     "output_type": "stream",
     "text": [
      "Size of test set: 848\n",
      "Elapsed time 'setup': 00:00:00.70\n"
     ]
    }
   ],
   "source": [
    "model_class = MODELS[cfg['xp_config']['model_type']]\n",
    "model = model_class(**cfg['model'])\n",
    "device = cfg['trainer']['device']\n",
    "model.to(device)\n",
    "datamodule = DiarizationDataset(**cfg['data']).setup(stage = 'eval')\n",
    "test_dataloader = datamodule.test_dataloader()"
   ]
  },
  {
   "cell_type": "code",
   "execution_count": 3,
   "id": "275c1a7a-3d70-4d69-a171-3c14fc8693db",
   "metadata": {},
   "outputs": [],
   "source": [
    "weight = './weights/__DualPath_RNN_179_-3.1895.pt'\n",
    "dicts = torch.load(weight, map_location=device, weights_only=False)\n",
    "model.load_state_dict(dicts['model_state_dict'])\n",
    "\n",
    "model.eval()\n",
    "running_sdr = 0.0\n",
    "running_sisnr = 0.0\n",
    "pit_sdr = PIT(sdr).to(device)\n",
    "pit_sisnr = PIT(sisnr).to(device)"
   ]
  },
  {
   "cell_type": "code",
   "execution_count": 4,
   "id": "7650da50-7654-4bf8-a29e-f8869daef303",
   "metadata": {},
   "outputs": [
    {
     "data": {
      "application/vnd.jupyter.widget-view+json": {
       "model_id": "e9adc6e60ab346ce825b732bbda094d5",
       "version_major": 2,
       "version_minor": 0
      },
      "text/plain": [
       "  0%|          | 0/848 [00:00<?, ?it/s]"
      ]
     },
     "metadata": {},
     "output_type": "display_data"
    },
    {
     "name": "stdout",
     "output_type": "stream",
     "text": [
      "sdr 5.21800422668457\n",
      "sisnr 4.563263416290283\n"
     ]
    }
   ],
   "source": [
    "for inputs, labels in tqdm(test_dataloader):\n",
    "    '''\n",
    "    batch = 1 spk = 2 time = 3200\n",
    "    inputs: [batch, time] \n",
    "    outputs and labels: [torch.randn(batch, time) for _ in range(spk)]  \n",
    "    expectention outputs and labels for torch audio-loss: torch.Size([batch, spk, time])\n",
    "    '''\n",
    "    inputs, labels = inputs.to(device), [l.to(device) for l in labels]\n",
    "    with torch.no_grad():\n",
    "        outputs = [s.detach() for s in model(inputs)]\n",
    "        labels = torch.stack(labels, dim=1).to(device)\n",
    "        outputs = torch.stack(outputs, dim=1).to(device)\n",
    "        pit_sdr.update(outputs, labels)\n",
    "        pit_sisnr.update(outputs, labels)\n",
    "        \n",
    "print('sdr', pit_sdr.compute().item())\n",
    "print('sisnr', pit_sisnr.compute().item())"
   ]
  },
  {
   "cell_type": "code",
   "execution_count": 5,
   "id": "9e139163-68dc-490c-80c8-307878683949",
   "metadata": {},
   "outputs": [],
   "source": [
    "# sdr -2.0657341480255127\n",
    "# sdr second 5.21800422668457\n",
    "# sisnr -4.563594581563693"
   ]
  },
  {
   "cell_type": "code",
   "execution_count": null,
   "id": "8fb6f2b0-4574-4c6d-9c8b-f3b81399750a",
   "metadata": {},
   "outputs": [],
   "source": [
    "# sdr 5.21800422668457\n",
    "# sisnr 4.563263416290283"
   ]
  }
 ],
 "metadata": {
  "kernelspec": {
   "display_name": "Python 3 (ipykernel)",
   "language": "python",
   "name": "python3"
  },
  "language_info": {
   "codemirror_mode": {
    "name": "ipython",
    "version": 3
   },
   "file_extension": ".py",
   "mimetype": "text/x-python",
   "name": "python",
   "nbconvert_exporter": "python",
   "pygments_lexer": "ipython3",
   "version": "3.9.0"
  }
 },
 "nbformat": 4,
 "nbformat_minor": 5
}
