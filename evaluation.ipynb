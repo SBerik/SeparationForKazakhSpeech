{
 "cells": [
  {
   "cell_type": "markdown",
   "id": "a9781ce0-4c01-408c-9201-80533751f2e6",
   "metadata": {},
   "source": [
    "### Inferenced"
   ]
  },
  {
   "cell_type": "code",
   "execution_count": 8,
   "id": "703750b9-2666-499c-8cbd-26f06f8591d4",
   "metadata": {},
   "outputs": [
    {
     "name": "stdout",
     "output_type": "stream",
     "text": [
      "saved in: samples/DualPath_RNN/spk1/5ed8a26d77f2a.flac\n",
      "saved in: samples/DualPath_RNN/spk2/5f59d27615178.flac\n"
     ]
    }
   ],
   "source": [
    "!python inference.py -m samples/5ed8a26d77f2a_5f59d27615178.flac -c configs/dualpathrnn.yml -w weights/dualpathrnn/DualPath_RNN_epoch_395_-9.2936.pt -s samples"
   ]
  },
  {
   "cell_type": "markdown",
   "id": "7757c619-9330-4418-93ea-0a254f009afa",
   "metadata": {},
   "source": [
    "### Ploting loss"
   ]
  },
  {
   "cell_type": "code",
   "execution_count": null,
   "id": "c7d5ccc0-cc19-4c35-9894-fab4ccabf378",
   "metadata": {},
   "outputs": [],
   "source": [
    "from utils.plot import save_graph_tb_log_metrics"
   ]
  },
  {
   "cell_type": "markdown",
   "id": "62004259-8ebe-491b-9552-fc1538d0629d",
   "metadata": {},
   "source": [
    "**Dualpathrnn**"
   ]
  },
  {
   "cell_type": "code",
   "execution_count": null,
   "id": "2c03a91f-a2f3-4695-812b-38e326078972",
   "metadata": {},
   "outputs": [],
   "source": [
    "save_graph_tb_log_metrics(\n",
    "    first_csv_path='checkpoints/train_rnn/Loss_Train.csv',\n",
    "    second_csv_path='checkpoints/train_rnn/Loss_Validation.csv',\n",
    "    name_ox='Epoch',\n",
    "    name_oy='Loss',\n",
    "    loc = 'upper right',\n",
    "    pth_save='pics/Loss_Train_Val.png'\n",
    ")"
   ]
  },
  {
   "cell_type": "markdown",
   "id": "2cb317dd-a27c-4126-a26f-cf1234717b25",
   "metadata": {},
   "source": [
    "**ConvTasnet**"
   ]
  },
  {
   "cell_type": "code",
   "execution_count": null,
   "id": "6b52de51-fad3-4fd4-a730-737da5f474ea",
   "metadata": {},
   "outputs": [],
   "source": []
  },
  {
   "cell_type": "markdown",
   "id": "7d925d13-b0c3-4a50-ac03-fba03a2bc946",
   "metadata": {},
   "source": [
    "**Sepformer**"
   ]
  },
  {
   "cell_type": "code",
   "execution_count": null,
   "id": "468458c8-d6f1-4ff4-bd6e-5c02e426d042",
   "metadata": {},
   "outputs": [],
   "source": []
  },
  {
   "cell_type": "markdown",
   "id": "3e46aa34-d92a-4ad6-b5c7-6389bc9990bc",
   "metadata": {},
   "source": [
    "### Evaluation"
   ]
  },
  {
   "cell_type": "code",
   "execution_count": 1,
   "id": "54c4755f-311d-4c70-8b32-225b7a781e56",
   "metadata": {},
   "outputs": [],
   "source": [
    "import argparse\n",
    "import sys\n",
    "\n",
    "import torch\n",
    "from torchmetrics.audio import PermutationInvariantTraining as PIT\n",
    "from torchmetrics.functional.audio import signal_distortion_ratio as sdr\n",
    "from torchmetrics.functional.audio import scale_invariant_signal_noise_ratio as sisnr\n",
    "from tqdm.notebook import tqdm\n",
    "\n",
    "from utils.load_config import load_config  \n",
    "from models import MODELS\n",
    "from data import DiarizationDataset"
   ]
  },
  {
   "cell_type": "code",
   "execution_count": 2,
   "id": "66a33862-111a-4186-94a4-a6bec25c67fd",
   "metadata": {},
   "outputs": [],
   "source": [
    "def evaluate(cfg, test_dataloader, weight):\n",
    "    model_class = MODELS[cfg['trainer']['model_name']]\n",
    "    model = model_class(**cfg['model'])\n",
    "    device = cfg['trainer']['device']\n",
    "    model.to(device)\n",
    "\n",
    "    dicts = torch.load(weight, map_location=device, weights_only=False)\n",
    "    model.load_state_dict(dicts['model_state_dict'])\n",
    "    \n",
    "    model.eval()\n",
    "    pit_sdr = PIT(sdr).to(device)\n",
    "    pit_sisnr = PIT(sisnr).to(device)\n",
    "\n",
    "    for inputs, labels in tqdm(test_dataloader):\n",
    "        '''\n",
    "        batch = 1 spk = 2 time = 3200\n",
    "        inputs: [batch, time] \n",
    "        outputs and labels: [torch.randn(batch, time) for _ in range(spk)]  \n",
    "        expectention outputs and labels for torch audio-loss: torch.Size([batch, spk, time])\n",
    "        '''\n",
    "        inputs, labels = inputs.to(device), [l.to(device) for l in labels]\n",
    "        with torch.no_grad():\n",
    "            outputs = [s.detach() for s in model(inputs)]\n",
    "            labels = torch.stack(labels, dim=1).to(device)\n",
    "            outputs = torch.stack(outputs, dim=1).to(device)\n",
    "            pit_sdr.update(outputs, labels)\n",
    "            pit_sisnr.update(outputs, labels)\n",
    "        \n",
    "    print('sdr', pit_sdr.compute().item())\n",
    "    print('sisnr', pit_sisnr.compute().item())"
   ]
  },
  {
   "cell_type": "code",
   "execution_count": 3,
   "id": "e29db5e4-a0fe-46c5-877e-b46f37a68821",
   "metadata": {},
   "outputs": [
    {
     "name": "stdout",
     "output_type": "stream",
     "text": [
      "Size of test set: 9404\n",
      "Elapsed time 'setup': 00:00:08.86\n"
     ]
    }
   ],
   "source": [
    "parser = argparse.ArgumentParser()\n",
    "parser.add_argument(\"-p\", \"--hparams\", type=str, default=\"./configs/test_dataset.yml\", help=\"hparams config file\")\n",
    "args, unknown = parser.parse_known_args()  \n",
    "testdataset_cfg = load_config(args.hparams)\n",
    "\n",
    "datamodule = DiarizationDataset(**testdataset_cfg['data']).setup(stage = 'eval')\n",
    "test_dataloader = datamodule.test_dataloader()"
   ]
  },
  {
   "cell_type": "markdown",
   "id": "63b23792-f1db-44ed-a9d3-7332ad887daf",
   "metadata": {},
   "source": [
    "**Dualpath-RNN**"
   ]
  },
  {
   "cell_type": "code",
   "execution_count": 4,
   "id": "59699b45-9b84-439a-92e5-07517a67b832",
   "metadata": {},
   "outputs": [],
   "source": [
    "parser = argparse.ArgumentParser()\n",
    "parser.add_argument(\"-p\", \"--hparams\", type=str, default=\"./configs/dualpathrnn.yml\", help=\"hparams config file\")\n",
    "args, unknown = parser.parse_known_args()  \n",
    "\n",
    "dualpathrnn_cfg = load_config(args.hparams)\n",
    "dualpathrnn_weight = './weights/dualpathrnn/DualPath_RNN_epoch_321_-9.0376.pt'"
   ]
  },
  {
   "cell_type": "code",
   "execution_count": 5,
   "id": "7b2ed455-ff16-4343-918e-134d5ee7e7a1",
   "metadata": {},
   "outputs": [
    {
     "data": {
      "application/vnd.jupyter.widget-view+json": {
       "model_id": "aba36500bd504511ad404f805aafb3ca",
       "version_major": 2,
       "version_minor": 0
      },
      "text/plain": [
       "  0%|          | 0/9404 [00:00<?, ?it/s]"
      ]
     },
     "metadata": {},
     "output_type": "display_data"
    },
    {
     "name": "stdout",
     "output_type": "stream",
     "text": [
      "sdr 9.450394630432129\n",
      "sisnr 8.572038650512695\n"
     ]
    }
   ],
   "source": [
    "evaluate(dualpathrnn_cfg, \n",
    "         test_dataloader, \n",
    "         dualpathrnn_weight)"
   ]
  },
  {
   "cell_type": "markdown",
   "id": "e357b784-cb8e-46e4-9a74-8d9fb1a7f23b",
   "metadata": {},
   "source": [
    "**Conv-TasNet**"
   ]
  },
  {
   "cell_type": "code",
   "execution_count": null,
   "id": "57258452-9df5-4390-a1fa-f584c3ecae2d",
   "metadata": {},
   "outputs": [],
   "source": [
    "parser = argparse.ArgumentParser()\n",
    "parser.add_argument(\"-p\", \"--hparams\", type=str, default=\"./configs/convtasnet.yml\", help=\"hparams config file\")\n",
    "args, unknown = parser.parse_known_args()  \n",
    "\n",
    "convtasnet_cfg = load_config(args.hparams)\n",
    "convtasnet_weight = './weights/convtasnet/best/DualPath_RNN_14_-7.3494.pt'"
   ]
  },
  {
   "cell_type": "code",
   "execution_count": null,
   "id": "b336eff8-1eab-4459-ac48-eaae7a4d90a8",
   "metadata": {},
   "outputs": [],
   "source": [
    "evaluate(convtasnet_cfg, \n",
    "         test_dataloader, \n",
    "         convtasnet_weight)"
   ]
  },
  {
   "cell_type": "markdown",
   "id": "85b89ea2-aecb-4854-bba6-fd5ca7d45ac5",
   "metadata": {},
   "source": [
    "**Sepformer**"
   ]
  },
  {
   "cell_type": "code",
   "execution_count": null,
   "id": "b5523868-e390-44f2-a028-ccabfbf7013d",
   "metadata": {},
   "outputs": [],
   "source": [
    "parser = argparse.ArgumentParser()\n",
    "parser.add_argument(\"-p\", \"--hparams\", type=str, default=\"./configs/sepformer.yml\", help=\"hparams config file\")\n",
    "args, unknown = parser.parse_known_args()  \n",
    "\n",
    "sepformer_cfg = load_config(args.hparams)\n",
    "sepformer_weight = './weights/sepformer/best/DualPath_RNN_14_-7.3494.pt'"
   ]
  },
  {
   "cell_type": "code",
   "execution_count": null,
   "id": "af71a497-74b4-45f6-a299-c56490c25b89",
   "metadata": {},
   "outputs": [],
   "source": [
    "evaluate(sepformer_cfg, \n",
    "         test_dataloader, \n",
    "         sepformer_weight)"
   ]
  },
  {
   "cell_type": "code",
   "execution_count": 5,
   "id": "9e139163-68dc-490c-80c8-307878683949",
   "metadata": {},
   "outputs": [],
   "source": [
    "# sdr -2.0657341480255127\n",
    "# sdr second 5.21800422668457\n",
    "# sisnr -4.563594581563693"
   ]
  },
  {
   "cell_type": "code",
   "execution_count": null,
   "id": "8fb6f2b0-4574-4c6d-9c8b-f3b81399750a",
   "metadata": {},
   "outputs": [],
   "source": [
    "# sdr 5.21800422668457\n",
    "# sisnr 4.563263416290283"
   ]
  }
 ],
 "metadata": {
  "kernelspec": {
   "display_name": "Python 3 (ipykernel)",
   "language": "python",
   "name": "python3"
  },
  "language_info": {
   "codemirror_mode": {
    "name": "ipython",
    "version": 3
   },
   "file_extension": ".py",
   "mimetype": "text/x-python",
   "name": "python",
   "nbconvert_exporter": "python",
   "pygments_lexer": "ipython3",
   "version": "3.9.0"
  }
 },
 "nbformat": 4,
 "nbformat_minor": 5
}
