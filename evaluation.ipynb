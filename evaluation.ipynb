{
 "cells": [
  {
   "cell_type": "code",
   "execution_count": 2,
   "id": "703750b9-2666-499c-8cbd-26f06f8591d4",
   "metadata": {},
   "outputs": [
    {
     "name": "stdout",
     "output_type": "stream",
     "text": [
      "saved in: samples/spk1/inferenced_5eed8296d6b96_60dac2a791cc1.flac\n",
      "saved in: samples/spk2/inferenced_5eed8296d6b96_60dac2a791cc1.flac\n"
     ]
    }
   ],
   "source": [
    "!python inference.py -m samples/5eed8296d6b96_60dac2a791cc1.flac -c configs/train_rnn.yml -w weights/DualPath_RNN_179_-3.1895.pt -s samples"
   ]
  },
  {
   "cell_type": "code",
   "execution_count": null,
   "id": "fd1b3b66-c4e8-413f-b333-5272a2a99200",
   "metadata": {},
   "outputs": [],
   "source": []
  }
 ],
 "metadata": {
  "kernelspec": {
   "display_name": "Python 3 (ipykernel)",
   "language": "python",
   "name": "python3"
  },
  "language_info": {
   "codemirror_mode": {
    "name": "ipython",
    "version": 3
   },
   "file_extension": ".py",
   "mimetype": "text/x-python",
   "name": "python",
   "nbconvert_exporter": "python",
   "pygments_lexer": "ipython3",
   "version": "3.9.0"
  }
 },
 "nbformat": 4,
 "nbformat_minor": 5
}
