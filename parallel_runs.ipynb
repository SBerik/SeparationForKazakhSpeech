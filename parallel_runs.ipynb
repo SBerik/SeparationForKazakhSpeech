{
 "cells": [
  {
   "cell_type": "code",
   "execution_count": null,
   "id": "54d3f277-ffe0-46c5-b478-14357a846b19",
   "metadata": {},
   "outputs": [],
   "source": [
    "!python -u train.py -p ./configs/dev_dualpathrnn.yml"
   ]
  },
  {
   "cell_type": "code",
   "execution_count": null,
   "id": "d37f1b9a-e7e8-44b1-a448-5b99bc800ec2",
   "metadata": {},
   "outputs": [],
   "source": []
  }
 ],
 "metadata": {
  "kernelspec": {
   "display_name": "Python 3 (ipykernel)",
   "language": "python",
   "name": "python3"
  },
  "language_info": {
   "codemirror_mode": {
    "name": "ipython",
    "version": 3
   },
   "file_extension": ".py",
   "mimetype": "text/x-python",
   "name": "python",
   "nbconvert_exporter": "python",
   "pygments_lexer": "ipython3",
   "version": "3.9.0"
  }
 },
 "nbformat": 4,
 "nbformat_minor": 5
}
