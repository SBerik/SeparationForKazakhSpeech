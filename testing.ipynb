{
 "cells": [
  {
   "cell_type": "markdown",
   "id": "b639a159-037f-4ff8-9352-10d60c2f33fd",
   "metadata": {
    "jp-MarkdownHeadingCollapsed": true
   },
   "source": [
    "#### Testing dataset"
   ]
  },
  {
   "cell_type": "markdown",
   "id": "46be0b67-9a6d-489f-ae0d-782b90650c9d",
   "metadata": {},
   "source": [
    "Common imports"
   ]
  },
  {
   "cell_type": "code",
   "execution_count": 2,
   "id": "875ee058-0d14-40bd-b05c-212a0e1dd34f",
   "metadata": {},
   "outputs": [],
   "source": [
    "import random\n",
    "from glob import glob\n",
    "import numpy as np\n",
    "import torch as th\n",
    "from torch.utils.data import Dataset, DataLoader\n",
    "import pytorch_lightning as pl\n",
    "from typing import Optional\n",
    "import argparse\n",
    "\n",
    "from utils.funtctional import handle_scp\n",
    "from utils.data_processing import read_wav\n",
    "from utils.load_config import load_config \n",
    "\n",
    "EPS = 1e-8"
   ]
  },
  {
   "cell_type": "code",
   "execution_count": 2,
   "id": "a35300f6-aa62-4640-a78f-58a865a53dc8",
   "metadata": {},
   "outputs": [
    {
     "data": {
      "text/plain": [
       "{'mix_dir': './mixed_data/',\n",
       " 'ref_dirs': './targets/',\n",
       " 'train_split': 0.8,\n",
       " 'val_split': 0.1,\n",
       " 'num_workers': 1,\n",
       " 'batch_size': 1,\n",
       " 'sample_rate': 16000,\n",
       " 'chunk_size': 32000,\n",
       " 'least_size': 16000,\n",
       " 'seed': 42}"
      ]
     },
     "execution_count": 2,
     "metadata": {},
     "output_type": "execute_result"
    }
   ],
   "source": [
    "cfg, ckpt_folder = load_config('./config/train_rnn.yml')\n",
    "cfg['data']"
   ]
  },
  {
   "cell_type": "markdown",
   "id": "14234ca6-8b70-4324-9b78-5081273407d2",
   "metadata": {},
   "source": [
    "#### Testing Dataset"
   ]
  },
  {
   "cell_type": "code",
   "execution_count": 1,
   "id": "ebc69ca4-37f6-4aa3-be38-7222b2822758",
   "metadata": {},
   "outputs": [],
   "source": [
    "import os\n",
    "import random\n",
    "import math\n",
    "from glob import glob\n",
    "import torch as th\n",
    "import torchaudio\n",
    "import pytorch_lightning as pl\n",
    "from typing import Optional, List\n",
    "import torch.nn.functional as F\n",
    "import pandas as pd \n",
    "from tqdm import tqdm \n",
    "import numpy as np\n",
    "\n",
    "from utils.measure_time import measure_time "
   ]
  },
  {
   "cell_type": "code",
   "execution_count": 2,
   "id": "ce314f8c-58f4-4c26-87cd-e55e140690af",
   "metadata": {},
   "outputs": [
    {
     "data": {
      "text/plain": [
       "{'data_dir': 'F:/ISSAI_KSC2_unpacked/DIHARD_DATA_INFO/CONCATED_DFS_k_2.csv',\n",
       " 'csv_file': True,\n",
       " 'train_percent': 0.8,\n",
       " 'valid_percent': 0.1,\n",
       " 'test_percent': 0.1,\n",
       " 'num_workers': 1,\n",
       " 'batch_size': 256,\n",
       " 'seed': 42,\n",
       " 'sample_rate': 16000,\n",
       " 'chunk_size': 32000,\n",
       " 'least_size': 16000}"
      ]
     },
     "execution_count": 2,
     "metadata": {},
     "output_type": "execute_result"
    }
   ],
   "source": [
    "from utils.load_config import load_config \n",
    "\n",
    "cfg, ckpt_folder = load_config('./config/train_rnn.yml')\n",
    "cfg['data']"
   ]
  },
  {
   "cell_type": "code",
   "execution_count": 3,
   "id": "fd4e47f7-121d-4ca2-80c1-a2b01f9da6c1",
   "metadata": {},
   "outputs": [],
   "source": [
    "class AudioDataset(th.utils.data.Dataset):\n",
    "    def __init__(self, mix_paths: List[str], ref_paths: List[List[str]], \n",
    "                 sr: int = 8000, chunk_size: int = 32000, least_size: int = 16000):\n",
    "        super().__init__()\n",
    "        self.mix_audio = self._load_audio(mix_paths, sr, chunk_size, least_size)\n",
    "        self.ref_audio = [self._load_audio(ref, sr, chunk_size, least_size) for ref in ref_paths]\n",
    "\n",
    "    def __len__(self):\n",
    "        return len(self.mix_audio)\n",
    "\n",
    "    def __getitem__(self, idx):\n",
    "        mix = self.mix_audio[idx]\n",
    "        refs = [ref[idx] for ref in self.ref_audio]\n",
    "        return mix, refs\n",
    "\n",
    "    @staticmethod\n",
    "    def _load_audio(paths: List[str], sr: int, chunk_size: int, least_size: int):\n",
    "        audios = []\n",
    "        min_shape = 7210\n",
    "        for path in paths:\n",
    "            audio, _sr = torchaudio.load(path)\n",
    "            if _sr != sr: raise RuntimeError(f\"Sample rate mismatch: {_sr} vs {sr}\")\n",
    "\n",
    "            # Pad or chunk the audio\n",
    "            if audio.shape[-1] < least_size:\n",
    "                min_shape = min(min_shape, audio.shape[-1])\n",
    "                continue\n",
    "            elif least_size < audio.shape[-1] < chunk_size:\n",
    "                pad_size = chunk_size - audio.shape[-1]\n",
    "                audios.append(F.pad(audio, (0, pad_size), mode='constant'))\n",
    "            else:\n",
    "                start = 0\n",
    "                while start + chunk_size <= audio.shape[-1]:\n",
    "                    audio = audio.squeeze()\n",
    "                    audios.append(audio[start:start + chunk_size])\n",
    "                    start += least_size\n",
    "        if min_shape != 7210: \n",
    "            print(min_shape)\n",
    "        return audios\n",
    "\n",
    "\n",
    "class AudioDataModule(pl.LightningDataModule):\n",
    "    def __init__(self, data_dir: str, csv_file:bool = False, train_percent: float = 0.8, valid_percent: float = 0.1, \n",
    "                 test_percent: float = 0.1, num_workers: int = 4, batch_size: int = 512, seed: int = 42, \n",
    "                 sample_rate: int = 8000, chunk_size: int = 32000, least_size: int = 16000):\n",
    "        super().__init__()\n",
    "        self.batch_size = batch_size\n",
    "        self.sr = sample_rate\n",
    "        self.chunk_size = chunk_size\n",
    "        self.least_size = least_size\n",
    "        self.num_workers = num_workers\n",
    "        self.seed = seed\n",
    "        self._set_seed(seed)\n",
    "        self.g = th.Generator()\n",
    "        self.g.manual_seed(seed)\n",
    "        self.mix_paths = []\n",
    "        self.ref_paths = []\n",
    "        \n",
    "        if csv_file:\n",
    "            full_df = pd.read_csv(data_dir)\n",
    "            for _, row in full_df.iterrows():\n",
    "                self.mix_paths.append (row.iloc[0])\n",
    "                self.ref_paths.append(sorted([row[column] for column in full_df.columns[1:]]))\n",
    "        else:\n",
    "            mixed_list = glob(os.path.join(data_dir, \"*.flac\"))\n",
    "            for mx in tqdm(mixed_list):\n",
    "                mx = mx.replace('\\\\', '/')\n",
    "                self.mix_paths.append (mx)\n",
    "                mx_df = pd.read_csv(mx.replace('flac', 'csv'))\n",
    "                f_real = sorted([mx_df.iloc[0][column] for column in mx_df.columns[1:]])\n",
    "                self.ref_paths.append(f_real)\n",
    "        \n",
    "        random.shuffle(self.mix_paths)\n",
    "        assert math.isclose(train_percent + valid_percent + test_percent, 1.0, rel_tol=1e-9), \"Sum doesnt equal to 1\" \n",
    "        self.train_len = int(len(self.mix_paths) * train_percent)\n",
    "        self.valid_len = int(len(self.mix_paths) * valid_percent)\n",
    "        self.test_len = int(len(self.mix_paths) * test_percent)\n",
    "\n",
    "    @measure_time\n",
    "    def setup(self, stage = 'train'):\n",
    "        assert stage in ['train', 'eval'], \"Invalid stage\"\n",
    "        \n",
    "        if stage == 'train': \n",
    "            self.train_dataset = AudioDataset(self.mix_paths[:self.train_len], \n",
    "                                              self.ref_paths[:self.train_len], \n",
    "                                              sr = self.sr, \n",
    "                                              chunk_size = self.chunk_size, \n",
    "                                              least_size = self.least_size)\n",
    "            print(f\"Size of training set: {len(self.train_dataset)}\")\n",
    "            \n",
    "            self.val_dataset = AudioDataset(self.val_paths[self.train_len:self.train_len + self.valid_len], \n",
    "                                            self.ref_paths[self.train_len:self.train_len + self.valid_len], \n",
    "                                            sr = self.sr, \n",
    "                                            chunk_size = self.chunk_size, \n",
    "                                            least_size = self.least_size) \n",
    "            print(f\"Size of validation set: {len(self.val_dataset)}\")\n",
    "\n",
    "        if stage == 'eval':\n",
    "            self.test_dataset = AudioDataset(self.test_paths[self.train_len + self.valid_len:], \n",
    "                                             self.ref_paths[self.train_len + self.valid_len:], \n",
    "                                             sr = self.sr, \n",
    "                                             chunk_size = self.chunk_size, \n",
    "                                             least_size = self.least_size)\n",
    "            print(f\"Size of test set: {len(self.test_dataset)}\")\n",
    "\n",
    "        return self\n",
    "        \n",
    "    def train_dataloader(self):\n",
    "        return th.utils.data.DataLoader(self.train_dataset, \n",
    "                                        batch_size=self.batch_size, \n",
    "                                        pin_memory = False,\n",
    "                                        shuffle=True, \n",
    "                                        num_workers=self.num_workers,\n",
    "                                        worker_init_fn=self.seed_worker,\n",
    "                                        generator=self.g)\n",
    "\n",
    "    def val_dataloader(self):\n",
    "        return th.utils.data.DataLoader(self.val_dataset, \n",
    "                                        batch_size=self.batch_size, \n",
    "                                        pin_memory = False,\n",
    "                                        shuffle=False, \n",
    "                                        num_workers=self.num_workers,\n",
    "                                        worker_init_fn=self.seed_worker,\n",
    "                                        generator=self.g)\n",
    "\n",
    "    def test_dataloader(self):\n",
    "        return th.utils.data.DataLoader(self.test_dataset, \n",
    "                                        batch_size=self.batch_size,\n",
    "                                        pin_memory = False, \n",
    "                                        shuffle=False, \n",
    "                                        num_workers=self.num_workers, \n",
    "                                        worker_init_fn=self.seed_worker,\n",
    "                                        generator=self.g)\n",
    "\n",
    "    def _set_seed(self, seed: int):\n",
    "        random.seed(seed)\n",
    "        np.random.seed(seed)\n",
    "        th.manual_seed(seed)\n",
    "        th.cuda.manual_seed_all(seed)\n",
    "\n",
    "    def seed_worker(self, worker_id):\n",
    "        worker_seed = th.initial_seed() % 2**32\n",
    "        np.random.seed(worker_seed)\n",
    "        random.seed(worker_seed)"
   ]
  },
  {
   "cell_type": "code",
   "execution_count": null,
   "id": "55b9e804-b59b-414d-87d7-7821d1df20f7",
   "metadata": {},
   "outputs": [
    {
     "name": "stdout",
     "output_type": "stream",
     "text": [
      "7200\n",
      "7200\n"
     ]
    }
   ],
   "source": [
    "datamodule = AudioDataModule(**cfg['data']).setup(stage = 'train')\n",
    "dataloaders = {'train': datamodule.train_dataloader(), 'valid': datamodule.val_dataloader()}"
   ]
  },
  {
   "cell_type": "code",
   "execution_count": null,
   "id": "3b9c4eb7-8a7f-4ad8-bfa6-ddf1fbdd3a51",
   "metadata": {},
   "outputs": [],
   "source": []
  },
  {
   "cell_type": "code",
   "execution_count": null,
   "id": "a9f6db2b-37cc-45e1-8a2c-9964b8f701de",
   "metadata": {},
   "outputs": [],
   "source": [
    "# --------------------------------------------------------------------------------------------------"
   ]
  },
  {
   "cell_type": "code",
   "execution_count": null,
   "id": "83aa3513-d0b9-4f29-aff4-9fb5d3819fa0",
   "metadata": {},
   "outputs": [],
   "source": []
  },
  {
   "cell_type": "code",
   "execution_count": null,
   "id": "64fe7bda-8dc8-4dca-be9e-a19f800e16d5",
   "metadata": {},
   "outputs": [],
   "source": []
  },
  {
   "cell_type": "code",
   "execution_count": null,
   "id": "2ae9ec3c-2f76-42d1-bc27-2bf95a5a058d",
   "metadata": {},
   "outputs": [],
   "source": []
  }
 ],
 "metadata": {
  "kernelspec": {
   "display_name": "Python 3 (ipykernel)",
   "language": "python",
   "name": "python3"
  },
  "language_info": {
   "codemirror_mode": {
    "name": "ipython",
    "version": 3
   },
   "file_extension": ".py",
   "mimetype": "text/x-python",
   "name": "python",
   "nbconvert_exporter": "python",
   "pygments_lexer": "ipython3",
   "version": "3.9.0"
  }
 },
 "nbformat": 4,
 "nbformat_minor": 5
}
