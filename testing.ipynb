{
 "cells": [
  {
   "cell_type": "markdown",
   "id": "14234ca6-8b70-4324-9b78-5081273407d2",
   "metadata": {},
   "source": [
    "#### Testing Dataset"
   ]
  },
  {
   "cell_type": "code",
   "execution_count": 1,
   "id": "ebc69ca4-37f6-4aa3-be38-7222b2822758",
   "metadata": {},
   "outputs": [],
   "source": [
    "import os\n",
    "import random\n",
    "import math\n",
    "from glob import glob\n",
    "import torch as th\n",
    "import torchaudio\n",
    "import pytorch_lightning as pl\n",
    "from typing import Optional, List\n",
    "import torch.nn.functional as F\n",
    "import pandas as pd \n",
    "from tqdm.notebook import tqdm \n",
    "import numpy as np\n",
    "\n",
    "from utils.measure_time import measure_time "
   ]
  },
  {
   "cell_type": "code",
   "execution_count": 2,
   "id": "fd4e47f7-121d-4ca2-80c1-a2b01f9da6c1",
   "metadata": {},
   "outputs": [],
   "source": [
    "class AudioDataset(th.utils.data.Dataset):\n",
    "    def __init__(self, mix_file_paths: List[str], ref_file_paths: List[List[str]], \n",
    "                 sr: int = 8000, chunk_size: int = 32000, least_size: int = 16000):\n",
    "        super().__init__()\n",
    "        self.mix_audio = []\n",
    "        self.ref_audio = []\n",
    "        k = len(ref_file_paths[1])\n",
    "        \n",
    "        for mix_path, ref_paths in zip(mix_file_paths, ref_file_paths):\n",
    "            common_len = ref_paths[0]\n",
    "            chunked_mix = self._load_audio(mix_path, sr, common_len, chunk_size, least_size)\n",
    "            if not chunked_mix: continue\n",
    "            ref_audio_chunks = []\n",
    "            \n",
    "            chunks_num, same_shape = 0, 0.0\n",
    "            for ref_path in ref_paths[1]:\n",
    "                res = self._load_audio(ref_path, sr, common_len, chunk_size, least_size)\n",
    "                ref_audio_chunks.append(res)\n",
    "                \n",
    "                if chunks_num != len(res) and chunks_num != 0:\n",
    "                    raise RuntimeError('different chuncks')\n",
    "                if same_shape != ref_audio_chunks[0][0].shape and same_shape != 0.0:\n",
    "                    raise RuntimeError('differen shape of chuncks')\n",
    "                chunks_num = len(res)\n",
    "                same_shape = ref_audio_chunks[0][0].shape\n",
    "  \n",
    "            if k != len(ref_audio_chunks): continue\n",
    "            \n",
    "            if chunked_mix[0].shape != ref_audio_chunks[0][0].shape:\n",
    "                raise RuntimeError('chunked_mix[0].shape != ref_audio_chunks[0][0].shape')\n",
    "            \n",
    "            self.mix_audio.append(chunked_mix)\n",
    "            self.ref_audio.append(ref_audio_chunks)\n",
    "            \n",
    "    def __len__(self):\n",
    "        return len(self.mix_audio)\n",
    "\n",
    "    def __getitem__(self, idx):\n",
    "        mix = self.mix_audio[idx][0]\n",
    "        refs = self.ref_audio[idx]\n",
    "        # refs = self.ref_audio[idx][0]\n",
    "        # refs = [ref[idx] for ref in self.ref_audio]\n",
    "        return mix, refs\n",
    "    \n",
    "    @staticmethod\n",
    "    def _load_audio(path:str, sr: int, common_len: int, chunk_size: int, least_size: int):\n",
    "        audio, _sr = torchaudio.load(path)\n",
    "        audio = audio.squeeze()\n",
    "        audio = audio[:common_len]\n",
    "        if _sr != sr: raise RuntimeError(f\"Sample rate mismatch: {_sr} vs {sr}\")\n",
    "        if audio.shape[0] < least_size: return []\n",
    "        audio_chunks = []\n",
    "        if least_size < audio.shape[0] < chunk_size:\n",
    "            pad_size = chunk_size - audio.shape[0]\n",
    "            audio_chunks.append(F.pad(audio, (0, pad_size), mode='constant'))\n",
    "        else:\n",
    "            start = 0\n",
    "            while start + chunk_size <= audio.shape[0]:\n",
    "                audio_chunks.append(audio[start:start + chunk_size])\n",
    "                start += least_size\n",
    "        return audio_chunks \n",
    "\n",
    "class ExtendedAudioDataset(AudioDataset):\n",
    "    def __getitems__(self, item):\n",
    "        return self.__getitem__(item)\n",
    "\n",
    "class AudioDataModule(pl.LightningDataModule):\n",
    "    def __init__(self, data_dir: str, csv_file:bool = False, total_percent: float = 0.1, train_percent:float = 0.8, valid_percent:float = 0.1, \n",
    "                 test_percent: float = 0.1, num_workers: int = 4, batch_size: int = 512, pin_memory = False, seed: int = 42, \n",
    "                 sample_rate: int = 8000, chunk_size: int = 32000, least_size: int = 16000):\n",
    "        super().__init__()\n",
    "        self.batch_size = batch_size\n",
    "        self.sr = sample_rate\n",
    "        self.chunk_size = chunk_size\n",
    "        self.least_size = least_size\n",
    "        self.num_workers = num_workers\n",
    "        self.pin_memory = pin_memory\n",
    "        self.seed = seed\n",
    "        self._set_seed(seed)\n",
    "        self.g = th.Generator()\n",
    "        self.g.manual_seed(seed)\n",
    "        self.mix_paths = []\n",
    "        self.ref_paths = []\n",
    "        \n",
    "        if csv_file:\n",
    "            full_df = pd.read_csv(data_dir)\n",
    "            for _, row in full_df.iterrows():\n",
    "                self.mix_paths.append (row.iloc[0])\n",
    "                self.ref_paths.append([row.iloc[1], sorted([row[column] for column in full_df.columns[2:]])])\n",
    "        else: \n",
    "            mixed_list = glob(os.path.join(data_dir, \"*.flac\"))\n",
    "            for mx in tqdm(mixed_list):\n",
    "                mx = mx.replace('\\\\', '/')\n",
    "                self.mix_paths.append (mx)\n",
    "                mx_df = pd.read_csv(mx.replace('flac', 'csv'))\n",
    "                f_real = [mx_df.iloc[0], sorted([mx_df.iloc[0][column] for column in mx_df.columns[2:]])] # THERE IS BAG need to fixed \n",
    "                self.ref_paths.append(f_real)\n",
    "\n",
    "        self.mix_paths = self.mix_paths[:int(len(self.mix_paths) * total_percent)]\n",
    "        self.ref_paths = self.ref_paths[:int(len(self.ref_paths) * total_percent)]\n",
    "        random.shuffle(self.mix_paths)\n",
    "        assert math.isclose(train_percent + valid_percent + test_percent, 1.0, rel_tol=1e-9), \"Sum doesnt equal to 1\" \n",
    "        self.train_len = int(len(self.mix_paths) * train_percent)\n",
    "        self.valid_len = int(len(self.mix_paths) * valid_percent)\n",
    "        self.test_len = int(len(self.mix_paths) * test_percent)\n",
    "\n",
    "    @measure_time\n",
    "    def setup(self, stage = 'train'):\n",
    "        assert stage in ['train', 'eval'], \"Invalid stage\"\n",
    "        \n",
    "        if stage == 'train': \n",
    "            self.train_dataset = AudioDataset(self.mix_paths[:self.train_len], \n",
    "                                              self.ref_paths[:self.train_len], \n",
    "                                              sr = self.sr, \n",
    "                                              chunk_size = self.chunk_size, \n",
    "                                              least_size = self.least_size)\n",
    "            print(f\"Size of training set: {len(self.train_dataset)}\")\n",
    "            \n",
    "            self.val_dataset = AudioDataset(self.mix_paths[self.train_len:self.train_len + self.valid_len], \n",
    "                                            self.ref_paths[self.train_len:self.train_len + self.valid_len], \n",
    "                                            sr = self.sr, \n",
    "                                            chunk_size = self.chunk_size, \n",
    "                                            least_size = self.least_size) \n",
    "            print(f\"Size of validation set: {len(self.val_dataset)}\")\n",
    "            \n",
    "        if stage == 'eval':\n",
    "            self.test_dataset = AudioDataset(self.mix_paths[self.train_len + self.valid_len:], \n",
    "                                             self.ref_paths[self.train_len + self.valid_len:], \n",
    "                                             sr = self.sr, \n",
    "                                             chunk_size = self.chunk_size, \n",
    "                                             least_size = self.least_size)\n",
    "            print(f\"Size of test set: {len(self.test_dataset)}\")\n",
    "\n",
    "        \n",
    "    def train_dataloader(self):\n",
    "        return th.utils.data.DataLoader(self.train_dataset, \n",
    "                                        batch_size=self.batch_size, \n",
    "                                        pin_memory = self.pin_memory,\n",
    "                                        shuffle=True, \n",
    "                                        num_workers=self.num_workers,\n",
    "                                        worker_init_fn=self.seed_worker,\n",
    "                                        generator=self.g)\n",
    "\n",
    "    def val_dataloader(self):\n",
    "        return th.utils.data.DataLoader(self.val_dataset, \n",
    "                                        batch_size=self.batch_size, \n",
    "                                        pin_memory = self.pin_memory,\n",
    "                                        shuffle=False, \n",
    "                                        num_workers=self.num_workers,\n",
    "                                        worker_init_fn=self.seed_worker,\n",
    "                                        generator=self.g)\n",
    "    \n",
    "    def test_dataloader(self):\n",
    "        return th.utils.data.DataLoader(self.test_dataset, \n",
    "                                        batch_size=self.batch_size,\n",
    "                                        pin_memory = self.pin_memory, \n",
    "                                        shuffle=False, \n",
    "                                        num_workers=self.num_workers, \n",
    "                                        worker_init_fn=self.seed_worker,\n",
    "                                        generator=self.g)\n",
    "\n",
    "    def _set_seed(self, seed: int):\n",
    "        random.seed(seed)\n",
    "        np.random.seed(seed)\n",
    "        th.manual_seed(seed)\n",
    "        th.cuda.manual_seed_all(seed)\n",
    "\n",
    "    def seed_worker(self, worker_id):\n",
    "        worker_seed = th.initial_seed() % 2**32\n",
    "        np.random.seed(worker_seed)\n",
    "        random.seed(worker_seed)"
   ]
  },
  {
   "cell_type": "code",
   "execution_count": 3,
   "id": "88fd87ed-9d94-4344-bac5-49e2010bba15",
   "metadata": {},
   "outputs": [],
   "source": [
    "import argparse\n",
    "import sys\n",
    "from utils.load_config import load_config  \n",
    "\n",
    "parser = argparse.ArgumentParser()\n",
    "parser.add_argument(\"-p\", \"--hparams\", type=str, default=\"./configs/train_rnn.yml\", help=\"hparams config file\")\n",
    "args, unknown = parser.parse_known_args()  # Игнорирует нераспознанные аргументы\n",
    "cfg = load_config(args.hparams)"
   ]
  },
  {
   "cell_type": "code",
   "execution_count": 4,
   "id": "55b9e804-b59b-414d-87d7-7821d1df20f7",
   "metadata": {},
   "outputs": [
    {
     "name": "stdout",
     "output_type": "stream",
     "text": [
      "Size of training set: 800\n",
      "Size of validation set: 100\n",
      "Elapsed time 'setup': 00:00:02.18\n"
     ]
    }
   ],
   "source": [
    "datamodule = AudioDataModule(**cfg['data'])\n",
    "datamodule.setup(stage = 'train')"
   ]
  },
  {
   "cell_type": "code",
   "execution_count": 5,
   "id": "4d8888a7-e1c6-4545-8b6c-a0a6de82e7e6",
   "metadata": {},
   "outputs": [],
   "source": [
    "dataloaders = {'train': datamodule.train_dataloader(), 'valid': datamodule.val_dataloader()}"
   ]
  },
  {
   "cell_type": "code",
   "execution_count": 6,
   "id": "554598ec-535b-4159-baa4-128aac54fe0f",
   "metadata": {},
   "outputs": [
    {
     "name": "stdout",
     "output_type": "stream",
     "text": [
      "tensor([ 0.0005,  0.0007,  0.0008,  ..., -0.0423, -0.0381, -0.0295])\n",
      "2\n"
     ]
    }
   ],
   "source": [
    "# Получение первого батча данных из DataLoader\n",
    "dataloader = dataloaders['train'] \n",
    "sample_mix, sample_refs = next(iter(dataloader))  # Используем iter и next для доступа к данным\n",
    "print(sample_mix[0])\n",
    "print(len(sample_refs))"
   ]
  },
  {
   "cell_type": "code",
   "execution_count": 17,
   "id": "25c4bb25-7599-4e39-bfd9-e8dc4ff35c67",
   "metadata": {},
   "outputs": [
    {
     "data": {
      "text/plain": [
       "torch.Size([32000])"
      ]
     },
     "execution_count": 17,
     "metadata": {},
     "output_type": "execute_result"
    }
   ],
   "source": [
    "sample_mix[0].shape"
   ]
  },
  {
   "cell_type": "code",
   "execution_count": 23,
   "id": "afadf1eb-26d0-4e7d-b372-37679430a59d",
   "metadata": {},
   "outputs": [
    {
     "data": {
      "text/plain": [
       "tensor([[ 0.0005,  0.0007,  0.0008,  ..., -0.0423, -0.0381, -0.0295]])"
      ]
     },
     "execution_count": 23,
     "metadata": {},
     "output_type": "execute_result"
    }
   ],
   "source": [
    "sample_mix"
   ]
  },
  {
   "cell_type": "code",
   "execution_count": 26,
   "id": "5dff65a4-6f7c-498a-811a-69b393b5e349",
   "metadata": {},
   "outputs": [
    {
     "data": {
      "text/plain": [
       "torch.Size([1, 32000])"
      ]
     },
     "execution_count": 26,
     "metadata": {},
     "output_type": "execute_result"
    }
   ],
   "source": [
    "output = sample_refs[0][0].shape\n",
    "output"
   ]
  },
  {
   "cell_type": "code",
   "execution_count": 32,
   "id": "0b94b3c8-e9c3-43bc-bef5-d7231b273951",
   "metadata": {},
   "outputs": [
    {
     "data": {
      "text/plain": [
       "tensor([0.0052, 0.0042, 0.0026,  ..., 0.0020, 0.0026, 0.0033])"
      ]
     },
     "execution_count": 32,
     "metadata": {},
     "output_type": "execute_result"
    }
   ],
   "source": [
    "output = sample_refs[0][0].squeeze()\n",
    "output"
   ]
  },
  {
   "cell_type": "code",
   "execution_count": 33,
   "id": "d3ad8ffc-1f1f-430f-be6a-0a77394b9a7f",
   "metadata": {},
   "outputs": [
    {
     "data": {
      "text/plain": [
       "torch.Size([32000])"
      ]
     },
     "execution_count": 33,
     "metadata": {},
     "output_type": "execute_result"
    }
   ],
   "source": [
    "output.shape"
   ]
  },
  {
   "cell_type": "code",
   "execution_count": 22,
   "id": "b2f42feb-ba24-450a-8f41-0b06ba12c45a",
   "metadata": {},
   "outputs": [
    {
     "data": {
      "text/plain": [
       "tensor([[0.0052, 0.0042, 0.0026,  ..., 0.0020, 0.0026, 0.0033]])"
      ]
     },
     "execution_count": 22,
     "metadata": {},
     "output_type": "execute_result"
    }
   ],
   "source": [
    "sample_refs[0][0]"
   ]
  },
  {
   "cell_type": "markdown",
   "id": "be8200bc-8f82-457a-8b37-3d53234c5aa5",
   "metadata": {},
   "source": [
    "#### Training "
   ]
  },
  {
   "cell_type": "code",
   "execution_count": 46,
   "id": "e0a2ddf6-576a-499d-ab6a-8374bfa655df",
   "metadata": {},
   "outputs": [],
   "source": [
    "import os\n",
    "import torch\n",
    "import torchmetrics\n",
    "import argparse\n",
    "from pathlib import Path\n",
    "from torch.utils.tensorboard import SummaryWriter as TensorBoard\n",
    "\n",
    "from utils.load_config import load_config \n",
    "from utils.training import metadata_info, configure_optimizer\n",
    "from utils.measure_time import measure_time\n",
    "from utils.training import p_output_log \n",
    "from models.model_rnn import Dual_RNN_model\n",
    "from losses import Loss"
   ]
  },
  {
   "cell_type": "code",
   "execution_count": 47,
   "id": "0ad7ed87-deee-47da-a710-8c2c223abaef",
   "metadata": {},
   "outputs": [
    {
     "name": "stdout",
     "output_type": "stream",
     "text": [
      "Trainable parametrs: 2633729\n",
      "Size of model: 10.05 MB, in float32 \n",
      "\n"
     ]
    }
   ],
   "source": [
    "torch.backends.cuda.matmul.allow_tf32 = True\n",
    "torch.backends.cudnn.allow_tf32 = True\n",
    "torch.set_float32_matmul_precision('medium')\n",
    "\n",
    "model = Dual_RNN_model(**cfg['model'])\n",
    "\n",
    "metadata_info(model)\n",
    "writer = TensorBoard(f'tb_logs/{Path(args.hparams).stem}', comment = f\"{cfg['trainer']['ckpt_folder']}\")\n",
    "optimizer = configure_optimizer (cfg, model)"
   ]
  },
  {
   "cell_type": "code",
   "execution_count": 20,
   "id": "bacfda33-fbca-4143-aba9-4a8825730c6b",
   "metadata": {},
   "outputs": [],
   "source": [
    "import torch\n",
    "from itertools import permutations\n",
    "\n",
    "def sisnr(x, s, eps=1e-8):\n",
    "    \"\"\"\n",
    "    calculate training loss\n",
    "    input:\n",
    "          x: separated signal, N x S tensor\n",
    "          s: reference signal, N x S tensor\n",
    "    Return:\n",
    "          sisnr: N tensor\n",
    "    \"\"\"\n",
    "    print(x.shape)\n",
    "    def l2norm(mat, keepdim=False):\n",
    "        return torch.norm(mat, dim=-1, keepdim=keepdim)\n",
    "\n",
    "    if x.shape != s.shape:\n",
    "        raise RuntimeError(\n",
    "            \"Dimention mismatch when calculate si-snr, {} vs {}\".format(\n",
    "                x.shape, s.shape))\n",
    "    x_zm = x - torch.mean(x, dim=-1, keepdim=True)\n",
    "    s_zm = s - torch.mean(s, dim=-1, keepdim=True)\n",
    "    t = torch.sum(\n",
    "        x_zm * s_zm, dim=-1,\n",
    "        keepdim=True) * s_zm / (l2norm(s_zm, keepdim=True)**2 + eps)\n",
    "    return 20 * torch.log10(eps + l2norm(t) / (l2norm(x_zm - t) + eps))\n",
    "\n",
    "\n",
    "def CustomLoss(ests, egs):\n",
    "    print('ests', ests)\n",
    "    print('len ests', len(ests))\n",
    "    print('egs', egs)\n",
    "    print('len egs', len(egs))\n",
    "    # spks x n x S\n",
    "    refs = egs\n",
    "    num_spks = len(refs)\n",
    "\n",
    "    def sisnr_loss(permute):\n",
    "        # print(f\"Length of ests: {len(ests)}, Length of refs: {len(refs)}\")\n",
    "        # print(f\"Permute: {permute}\")\n",
    "        # for one permute\n",
    "        return sum([sisnr(ests[s], refs[t]) for s, t in enumerate(permute)]) / len(permute)  # average the value\n",
    "\n",
    "    # P x N\n",
    "    N = egs[0].size(0)\n",
    "    sisnr_mat = torch.stack(\n",
    "        [sisnr_loss(p) for p in permutations(range(num_spks))])\n",
    "    max_perutt, _ = torch.max(sisnr_mat, dim=0)\n",
    "    # si-snr\n",
    "    return -torch.sum(max_perutt) / N\n"
   ]
  },
  {
   "cell_type": "code",
   "execution_count": 21,
   "id": "f345f0f1-77f8-4096-8ce4-8d4425b9a502",
   "metadata": {},
   "outputs": [
    {
     "name": "stdout",
     "output_type": "stream",
     "text": [
      "ests [tensor([[0.5000, 0.6000, 0.8000, 0.9000, 1.0000, 0.7000, 0.3000, 0.2000]]), tensor([[0.1000, 0.2000, 0.4000, 0.6000, 0.7000, 0.8000, 0.9000, 0.5000]])]\n",
      "len ests 2\n",
      "egs [tensor([[0.6000, 0.7000, 0.9000, 1.0000, 0.8000, 0.6000, 0.4000, 0.3000]]), tensor([[0.0000, 0.1000, 0.3000, 0.5000, 0.7000, 0.9000, 1.0000, 0.6000]])]\n",
      "len egs 2\n",
      "torch.Size([1, 8])\n",
      "torch.Size([1, 8])\n",
      "torch.Size([1, 8])\n",
      "torch.Size([1, 8])\n",
      "Custom Loss: -10.556488990783691\n"
     ]
    }
   ],
   "source": [
    "import torch\n",
    "\n",
    "# Размерность: N = 3 (батч), S = 8 (длина сигнала)\n",
    "# Предсказанные сигналы (2 говорящих)\n",
    "ests = [\n",
    "    torch.tensor([\n",
    "        [0.5, 0.6, 0.8, 0.9, 1.0, 0.7, 0.3, 0.2]\n",
    "    ]),\n",
    "    torch.tensor([\n",
    "        [0.1, 0.2, 0.4, 0.6, 0.7, 0.8, 0.9, 0.5]\n",
    "    ])\n",
    "]\n",
    "\n",
    "# Эталонные сигналы (2 говорящих)\n",
    "egs = [\n",
    "    torch.tensor([\n",
    "        [0.6, 0.7, 0.9, 1.0, 0.8, 0.6, 0.4, 0.3]\n",
    "    ]),\n",
    "    torch.tensor([\n",
    "        [0.0, 0.1, 0.3, 0.5, 0.7, 0.9, 1.0, 0.6]\n",
    "    ])\n",
    "]\n",
    "\n",
    "# Рассчитаем функцию потерь\n",
    "loss = CustomLoss(ests, egs)\n",
    "print(f\"Custom Loss: {loss.item()}\")\n"
   ]
  },
  {
   "cell_type": "code",
   "execution_count": null,
   "id": "e234a9b7-be8d-4d9b-93ea-52ab0cc68a2c",
   "metadata": {},
   "outputs": [],
   "source": [
    "import torch\n",
    "\n",
    "# Эталонные сигналы (2 говорящих, батч из 3, длина сигнала 8)\n",
    "egs = [\n",
    "    torch.tensor([\n",
    "        [0.5, 0.6, 0.7, 0.8, 0.9, 1.0, 0.8, 0.6],\n",
    "        [0.1, 0.2, 0.3, 0.4, 0.5, 0.6, 0.7, 0.8],\n",
    "        [0.3, 0.4, 0.5, 0.6, 0.7, 0.8, 0.9, 1.0]\n",
    "    ]),\n",
    "    torch.tensor([\n",
    "        [0.2, 0.3, 0.4, 0.5, 0.6, 0.7, 0.8, 0.9],\n",
    "        [0.6, 0.5, 0.4, 0.3, 0.2, 0.1, 0.0, 0.1],\n",
    "        [0.8, 0.7, 0.6, 0.5, 0.4, 0.3, 0.2, 0.1]\n",
    "    ])\n",
    "]\n",
    "\n",
    "# Предсказанные сигналы, идентичные эталонным\n",
    "ests = [\n",
    "    torch.tensor([\n",
    "        [0.5, 0.6, 0.7, 0.8, 0.9, 1.0, 0.8, 0.6],\n",
    "        [0.1, 0.2, 0.3, 0.4, 0.5, 0.6, 0.7, 0.8],\n",
    "        [0.3, 0.4, 0.5, 0.6, 0.7, 0.8, 0.9, 1.0]\n",
    "    ]),\n",
    "    torch.tensor([\n",
    "        [0.2, 0.3, 0.4, 0.5, 0.6, 0.7, 0.8, 0.9],\n",
    "        [0.6, 0.5, 0.4, 0.3, 0.2, 0.1, 0.0, 0.1],\n",
    "        [0.8, 0.7, 0.6, 0.5, 0.4, 0.3, 0.2, 0.1]\n",
    "    ])\n",
    "]\n",
    "\n",
    "# Рассчитаем функцию потерь\n",
    "loss = CustomLoss(ests, egs)\n",
    "print(f\"Custom Loss (ideal case): {loss.item()}\")\n"
   ]
  },
  {
   "cell_type": "code",
   "execution_count": 36,
   "id": "64fe7bda-8dc8-4dca-be9e-a19f800e16d5",
   "metadata": {},
   "outputs": [],
   "source": [
    "class Trainer:\n",
    "    def __init__(self, num_epochs = 100, device='cuda', best_weights = False, checkpointing = False, \n",
    "                 checkpoint_interval = 10, model_name = '', path_to_weights= './weights', ckpt_folder = '',\n",
    "                 speaker_num = 2, resume = False) -> None:\n",
    "        self.num_epochs = num_epochs\n",
    "        self.device = device\n",
    "        self.best_weights = best_weights\n",
    "        self.checkpointing = checkpointing\n",
    "        self.checkpoint_interval = checkpoint_interval\n",
    "        self.model_name = model_name\n",
    "        os.makedirs(path_to_weights, exist_ok=True)\n",
    "        self.path_to_weights = path_to_weights\n",
    "        self.ckpt_folder = ckpt_folder\n",
    "        self.speaker_num = speaker_num\n",
    "        self.resume = resume\n",
    "\n",
    "    @measure_time\n",
    "    def fit(self, model, dataloaders, criterion, optimizer, writer) -> None:\n",
    "        model.to(self.device)\n",
    "        min_val_loss = float('inf')\n",
    "        for epoch in range(self.num_epochs):\n",
    "            for phase in ['train', 'valid']:\n",
    "                model.train() if phase == 'train' else model.eval()\n",
    "                dataloader = dataloaders[phase] \n",
    "                running_loss = 0.0\n",
    "                for inputs, labels in tqdm(dataloader):\n",
    "                    inputs, labels = inputs.to(self.device), [label.to(self.device) for label in labels]\n",
    "                    with torch.set_grad_enabled(phase == 'train'):\n",
    "                        outputs = model(inputs)\n",
    "                        print(outputs)\n",
    "                        loss = criterion(outputs, labels)\n",
    "                        if phase == 'train':\n",
    "                            optimizer.zero_grad()\n",
    "                            loss.backward()\n",
    "                            optimizer.step()\n",
    "                    running_loss += loss.item() * inputs.size(0)\n",
    "\n",
    "                break\n",
    "                epoch_loss = running_loss / len(dataloader.dataset)\n",
    "                print(epoch_loss)\n",
    "                # p_output_log(self.num_epochs, epoch, epoch_loss)"
   ]
  },
  {
   "cell_type": "code",
   "execution_count": 37,
   "id": "35f98e52-44e3-47e1-a921-676219548905",
   "metadata": {},
   "outputs": [
    {
     "data": {
      "application/vnd.jupyter.widget-view+json": {
       "model_id": "9883304a96be41f1a326865a3fc5e81b",
       "version_major": 2,
       "version_minor": 0
      },
      "text/plain": [
       "  0%|          | 0/800 [00:00<?, ?it/s]"
      ]
     },
     "metadata": {},
     "output_type": "display_data"
    },
    {
     "name": "stdout",
     "output_type": "stream",
     "text": [
      "[tensor([[ 8.9875e-05, -4.2176e-05,  9.0446e-06,  ...,  7.8968e-03,\n",
      "          4.8392e-03,  4.3211e-03]], device='cuda:0',\n",
      "       grad_fn=<SqueezeBackward1>), tensor([[ 1.1987e-04, -1.8660e-05, -1.4660e-05,  ...,  2.4879e-03,\n",
      "          1.1837e-03, -8.5887e-03]], device='cuda:0',\n",
      "       grad_fn=<SqueezeBackward1>)]\n",
      "egs [tensor([[-0.0025,  0.0034,  0.0062,  ..., -0.0254, -0.0289, -0.0309]],\n",
      "       device='cuda:0'), tensor([[ 0.0685,  0.0726,  0.0726,  ..., -0.0013, -0.0017, -0.0021]],\n",
      "       device='cuda:0'), tensor([[-0.0311, -0.0313, -0.0363,  ..., -0.0239, -0.0259, -0.0262]],\n",
      "       device='cuda:0')]\n",
      "len egs 3\n",
      "torch.Size([1, 32000])\n",
      "torch.Size([1, 32000])\n"
     ]
    },
    {
     "ename": "IndexError",
     "evalue": "list index out of range",
     "output_type": "error",
     "traceback": [
      "\u001b[1;31m---------------------------------------------------------------------------\u001b[0m",
      "\u001b[1;31mIndexError\u001b[0m                                Traceback (most recent call last)",
      "Cell \u001b[1;32mIn[37], line 1\u001b[0m\n\u001b[1;32m----> 1\u001b[0m \u001b[43mTrainer\u001b[49m\u001b[43m(\u001b[49m\u001b[38;5;241;43m*\u001b[39;49m\u001b[38;5;241;43m*\u001b[39;49m\u001b[43mcfg\u001b[49m\u001b[43m[\u001b[49m\u001b[38;5;124;43m'\u001b[39;49m\u001b[38;5;124;43mtrainer\u001b[39;49m\u001b[38;5;124;43m'\u001b[39;49m\u001b[43m]\u001b[49m\u001b[43m)\u001b[49m\u001b[38;5;241;43m.\u001b[39;49m\u001b[43mfit\u001b[49m\u001b[43m(\u001b[49m\u001b[43mmodel\u001b[49m\u001b[43m,\u001b[49m\u001b[43m \u001b[49m\u001b[43mdataloaders\u001b[49m\u001b[43m,\u001b[49m\u001b[43m \u001b[49m\u001b[43mCustomLoss\u001b[49m\u001b[43m,\u001b[49m\u001b[43m \u001b[49m\u001b[43moptimizer\u001b[49m\u001b[43m,\u001b[49m\u001b[43m \u001b[49m\u001b[43mwriter\u001b[49m\u001b[43m)\u001b[49m\n",
      "File \u001b[1;32m~\\Diploma\\DualPathRNN\\utils\\measure_time.py:15\u001b[0m, in \u001b[0;36mmeasure_time.<locals>.wrapper\u001b[1;34m(*args, **kwargs)\u001b[0m\n\u001b[0;32m     13\u001b[0m \u001b[38;5;28;01mdef\u001b[39;00m \u001b[38;5;21mwrapper\u001b[39m(\u001b[38;5;241m*\u001b[39margs, \u001b[38;5;241m*\u001b[39m\u001b[38;5;241m*\u001b[39mkwargs):\n\u001b[0;32m     14\u001b[0m     start_time \u001b[38;5;241m=\u001b[39m t\u001b[38;5;241m.\u001b[39mtime()\n\u001b[1;32m---> 15\u001b[0m     result \u001b[38;5;241m=\u001b[39m func(\u001b[38;5;241m*\u001b[39margs, \u001b[38;5;241m*\u001b[39m\u001b[38;5;241m*\u001b[39mkwargs)\n\u001b[0;32m     16\u001b[0m     end_time \u001b[38;5;241m=\u001b[39m t\u001b[38;5;241m.\u001b[39mtime()\n\u001b[0;32m     17\u001b[0m     elapsed_time \u001b[38;5;241m=\u001b[39m end_time \u001b[38;5;241m-\u001b[39m start_time\n",
      "Cell \u001b[1;32mIn[36], line 31\u001b[0m, in \u001b[0;36mTrainer.fit\u001b[1;34m(self, model, dataloaders, criterion, optimizer, writer)\u001b[0m\n\u001b[0;32m     29\u001b[0m outputs \u001b[38;5;241m=\u001b[39m model(inputs)\n\u001b[0;32m     30\u001b[0m \u001b[38;5;28mprint\u001b[39m(outputs)\n\u001b[1;32m---> 31\u001b[0m loss \u001b[38;5;241m=\u001b[39m \u001b[43mcriterion\u001b[49m\u001b[43m(\u001b[49m\u001b[43moutputs\u001b[49m\u001b[43m,\u001b[49m\u001b[43m \u001b[49m\u001b[43mlabels\u001b[49m\u001b[43m)\u001b[49m\n\u001b[0;32m     32\u001b[0m \u001b[38;5;28;01mif\u001b[39;00m phase \u001b[38;5;241m==\u001b[39m \u001b[38;5;124m'\u001b[39m\u001b[38;5;124mtrain\u001b[39m\u001b[38;5;124m'\u001b[39m:\n\u001b[0;32m     33\u001b[0m     optimizer\u001b[38;5;241m.\u001b[39mzero_grad()\n",
      "Cell \u001b[1;32mIn[33], line 45\u001b[0m, in \u001b[0;36mCustomLoss\u001b[1;34m(ests, egs)\u001b[0m\n\u001b[0;32m     42\u001b[0m \u001b[38;5;66;03m# P x N\u001b[39;00m\n\u001b[0;32m     43\u001b[0m N \u001b[38;5;241m=\u001b[39m egs[\u001b[38;5;241m0\u001b[39m]\u001b[38;5;241m.\u001b[39msize(\u001b[38;5;241m0\u001b[39m)\n\u001b[0;32m     44\u001b[0m sisnr_mat \u001b[38;5;241m=\u001b[39m torch\u001b[38;5;241m.\u001b[39mstack(\n\u001b[1;32m---> 45\u001b[0m     [sisnr_loss(p) \u001b[38;5;28;01mfor\u001b[39;00m p \u001b[38;5;129;01min\u001b[39;00m permutations(\u001b[38;5;28mrange\u001b[39m(num_spks))])\n\u001b[0;32m     46\u001b[0m max_perutt, _ \u001b[38;5;241m=\u001b[39m torch\u001b[38;5;241m.\u001b[39mmax(sisnr_mat, dim\u001b[38;5;241m=\u001b[39m\u001b[38;5;241m0\u001b[39m)\n\u001b[0;32m     47\u001b[0m \u001b[38;5;66;03m# si-snr\u001b[39;00m\n",
      "Cell \u001b[1;32mIn[33], line 45\u001b[0m, in \u001b[0;36m<listcomp>\u001b[1;34m(.0)\u001b[0m\n\u001b[0;32m     42\u001b[0m \u001b[38;5;66;03m# P x N\u001b[39;00m\n\u001b[0;32m     43\u001b[0m N \u001b[38;5;241m=\u001b[39m egs[\u001b[38;5;241m0\u001b[39m]\u001b[38;5;241m.\u001b[39msize(\u001b[38;5;241m0\u001b[39m)\n\u001b[0;32m     44\u001b[0m sisnr_mat \u001b[38;5;241m=\u001b[39m torch\u001b[38;5;241m.\u001b[39mstack(\n\u001b[1;32m---> 45\u001b[0m     [\u001b[43msisnr_loss\u001b[49m\u001b[43m(\u001b[49m\u001b[43mp\u001b[49m\u001b[43m)\u001b[49m \u001b[38;5;28;01mfor\u001b[39;00m p \u001b[38;5;129;01min\u001b[39;00m permutations(\u001b[38;5;28mrange\u001b[39m(num_spks))])\n\u001b[0;32m     46\u001b[0m max_perutt, _ \u001b[38;5;241m=\u001b[39m torch\u001b[38;5;241m.\u001b[39mmax(sisnr_mat, dim\u001b[38;5;241m=\u001b[39m\u001b[38;5;241m0\u001b[39m)\n\u001b[0;32m     47\u001b[0m \u001b[38;5;66;03m# si-snr\u001b[39;00m\n",
      "Cell \u001b[1;32mIn[33], line 40\u001b[0m, in \u001b[0;36mCustomLoss.<locals>.sisnr_loss\u001b[1;34m(permute)\u001b[0m\n\u001b[0;32m     36\u001b[0m \u001b[38;5;28;01mdef\u001b[39;00m \u001b[38;5;21msisnr_loss\u001b[39m(permute):\n\u001b[0;32m     37\u001b[0m     \u001b[38;5;66;03m# print(f\"Length of ests: {len(ests)}, Length of refs: {len(refs)}\")\u001b[39;00m\n\u001b[0;32m     38\u001b[0m     \u001b[38;5;66;03m# print(f\"Permute: {permute}\")\u001b[39;00m\n\u001b[0;32m     39\u001b[0m     \u001b[38;5;66;03m# for one permute\u001b[39;00m\n\u001b[1;32m---> 40\u001b[0m     \u001b[38;5;28;01mreturn\u001b[39;00m \u001b[38;5;28msum\u001b[39m([sisnr(ests[s], refs[t]) \u001b[38;5;28;01mfor\u001b[39;00m s, t \u001b[38;5;129;01min\u001b[39;00m \u001b[38;5;28menumerate\u001b[39m(permute)]) \u001b[38;5;241m/\u001b[39m \u001b[38;5;28mlen\u001b[39m(permute)\n",
      "Cell \u001b[1;32mIn[33], line 40\u001b[0m, in \u001b[0;36m<listcomp>\u001b[1;34m(.0)\u001b[0m\n\u001b[0;32m     36\u001b[0m \u001b[38;5;28;01mdef\u001b[39;00m \u001b[38;5;21msisnr_loss\u001b[39m(permute):\n\u001b[0;32m     37\u001b[0m     \u001b[38;5;66;03m# print(f\"Length of ests: {len(ests)}, Length of refs: {len(refs)}\")\u001b[39;00m\n\u001b[0;32m     38\u001b[0m     \u001b[38;5;66;03m# print(f\"Permute: {permute}\")\u001b[39;00m\n\u001b[0;32m     39\u001b[0m     \u001b[38;5;66;03m# for one permute\u001b[39;00m\n\u001b[1;32m---> 40\u001b[0m     \u001b[38;5;28;01mreturn\u001b[39;00m \u001b[38;5;28msum\u001b[39m([sisnr(\u001b[43mests\u001b[49m\u001b[43m[\u001b[49m\u001b[43ms\u001b[49m\u001b[43m]\u001b[49m, refs[t]) \u001b[38;5;28;01mfor\u001b[39;00m s, t \u001b[38;5;129;01min\u001b[39;00m \u001b[38;5;28menumerate\u001b[39m(permute)]) \u001b[38;5;241m/\u001b[39m \u001b[38;5;28mlen\u001b[39m(permute)\n",
      "\u001b[1;31mIndexError\u001b[0m: list index out of range"
     ]
    }
   ],
   "source": [
    "Trainer(**cfg['trainer']).fit(model, dataloaders, CustomLoss, optimizer, writer)"
   ]
  },
  {
   "cell_type": "code",
   "execution_count": null,
   "id": "ed9361a9-56fb-4ab8-b9b5-952a976138d9",
   "metadata": {},
   "outputs": [],
   "source": []
  }
 ],
 "metadata": {
  "kernelspec": {
   "display_name": "Python 3 (ipykernel)",
   "language": "python",
   "name": "python3"
  },
  "language_info": {
   "codemirror_mode": {
    "name": "ipython",
    "version": 3
   },
   "file_extension": ".py",
   "mimetype": "text/x-python",
   "name": "python",
   "nbconvert_exporter": "python",
   "pygments_lexer": "ipython3",
   "version": "3.9.0"
  }
 },
 "nbformat": 4,
 "nbformat_minor": 5
}
