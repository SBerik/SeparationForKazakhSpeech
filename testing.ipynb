{
 "cells": [
  {
   "cell_type": "markdown",
   "id": "14234ca6-8b70-4324-9b78-5081273407d2",
   "metadata": {
    "jp-MarkdownHeadingCollapsed": true
   },
   "source": [
    "#### Testing Dataset"
   ]
  },
  {
   "cell_type": "code",
   "execution_count": 1,
   "id": "ebc69ca4-37f6-4aa3-be38-7222b2822758",
   "metadata": {},
   "outputs": [],
   "source": [
    "import os\n",
    "import random\n",
    "import math\n",
    "from glob import glob\n",
    "import torch as th\n",
    "import torchaudio\n",
    "import pytorch_lightning as pl\n",
    "from typing import Optional, List\n",
    "import torch.nn.functional as F\n",
    "import pandas as pd \n",
    "from tqdm.notebook import tqdm \n",
    "import numpy as np\n",
    "\n",
    "from utils.measure_time import measure_time "
   ]
  },
  {
   "cell_type": "code",
   "execution_count": 3,
   "id": "88fd87ed-9d94-4344-bac5-49e2010bba15",
   "metadata": {},
   "outputs": [],
   "source": [
    "import argparse\n",
    "import sys\n",
    "from utils.load_config import load_config  \n",
    "\n",
    "parser = argparse.ArgumentParser()\n",
    "parser.add_argument(\"-p\", \"--hparams\", type=str, default=\"./configs/train_rnn.yml\", help=\"hparams config file\")\n",
    "args, unknown = parser.parse_known_args()  # Игнорирует нераспознанные аргументы\n",
    "cfg = load_config(args.hparams)"
   ]
  },
  {
   "cell_type": "code",
   "execution_count": 4,
   "id": "55b9e804-b59b-414d-87d7-7821d1df20f7",
   "metadata": {},
   "outputs": [
    {
     "name": "stdout",
     "output_type": "stream",
     "text": [
      "Size of training set: 420\n",
      "Size of validation set: 63\n",
      "Elapsed time 'setup': 00:00:02.20\n"
     ]
    }
   ],
   "source": [
    "datamodule = AudioDataModule(**cfg['data']).setup(stage = 'train')"
   ]
  },
  {
   "cell_type": "code",
   "execution_count": 5,
   "id": "4d8888a7-e1c6-4545-8b6c-a0a6de82e7e6",
   "metadata": {},
   "outputs": [],
   "source": [
    "dataloaders = {'train': datamodule.train_dataloader(), 'valid': datamodule.val_dataloader()}"
   ]
  },
  {
   "cell_type": "code",
   "execution_count": 6,
   "id": "554598ec-535b-4159-baa4-128aac54fe0f",
   "metadata": {},
   "outputs": [],
   "source": [
    "# Получение первого батча данных из DataLoader\n",
    "dataloader = dataloaders['train'] \n",
    "sample_mix, sample_refs = next(iter(dataloader))  # Используем iter и next для доступа к данным"
   ]
  },
  {
   "cell_type": "code",
   "execution_count": 7,
   "id": "843cfc43-6534-4cf7-bc21-9431d9410bef",
   "metadata": {},
   "outputs": [
    {
     "name": "stdout",
     "output_type": "stream",
     "text": [
      "[tensor([[0.0016, 0.0045, 0.0016,  ..., 0.0505, 0.1465, 0.1519]])] \n",
      "\n",
      "chunks_num 1 \n",
      "\n",
      "tensor([[0.0016, 0.0045, 0.0016,  ..., 0.0505, 0.1465, 0.1519]]) \n",
      "\n",
      "torch.Size([1, 32000]) \n",
      "\n",
      "---------------------------------------------- \n",
      "\n",
      "spekears num 2 \n",
      "\n",
      "firs_speaker list: [tensor([[-0.0042, -0.0083, -0.0139,  ..., -0.0009, -0.0040, -0.0038]])] \n",
      "\n",
      "chunks_nums 1 \n",
      "\n",
      "torch.Size([1, 32000]) \n",
      "\n"
     ]
    }
   ],
   "source": [
    "print(sample_mix, '\\n')\n",
    "print('chunks_num', len(sample_mix), '\\n')\n",
    "print(sample_mix[0], '\\n')\n",
    "print(sample_mix[0].shape, '\\n')\n",
    "print('----------------------------------------------', '\\n')\n",
    "print('spekears num', len(sample_refs), '\\n')\n",
    "print('firs_speaker list:', sample_refs[0], '\\n')\n",
    "print('chunks_nums', len(sample_refs[0]), '\\n')\n",
    "print(sample_refs[0][0].shape, '\\n')"
   ]
  },
  {
   "cell_type": "markdown",
   "id": "8491153d-eff4-4ed1-b5bb-68035ed2f2af",
   "metadata": {
    "jp-MarkdownHeadingCollapsed": true
   },
   "source": [
    "#### Testing dataloaders LAST UPDATE 1."
   ]
  },
  {
   "cell_type": "code",
   "execution_count": 1,
   "id": "87c65159-b90f-4185-869d-8113e8da662b",
   "metadata": {},
   "outputs": [],
   "source": [
    "import argparse\n",
    "import sys\n",
    "from utils.load_config import load_config  \n",
    "\n",
    "parser = argparse.ArgumentParser()\n",
    "parser.add_argument(\"-p\", \"--hparams\", type=str, default=\"./configs/train_rnn_percent_08.yml\", help=\"hparams config file\")\n",
    "args, unknown = parser.parse_known_args()  # Игнорирует нераспознанные аргументы\n",
    "cfg = load_config(args.hparams)"
   ]
  },
  {
   "cell_type": "code",
   "execution_count": 2,
   "id": "6a270fd5-a861-4958-aa81-92ba9990884e",
   "metadata": {},
   "outputs": [
    {
     "name": "stdout",
     "output_type": "stream",
     "text": [
      "Size of training set: 3140\n",
      "Size of validation set: 641\n",
      "Elapsed time 'setup': 00:00:02.00\n"
     ]
    }
   ],
   "source": [
    "from data.DiarizationDataset import DiarizationDataset\n",
    "datamodule = DiarizationDataset(**cfg['datasets']).setup(stage = 'train')\n",
    "dataloaders = {'train': datamodule.train_dataloader(), 'valid': datamodule.val_dataloader()}"
   ]
  },
  {
   "cell_type": "code",
   "execution_count": 3,
   "id": "22174481-eb62-4115-9176-6bcc8e9d4e64",
   "metadata": {},
   "outputs": [
    {
     "name": "stdout",
     "output_type": "stream",
     "text": [
      "tensor([[0.0209, 0.0117, 0.0137,  ..., 0.0167, 0.0109, 0.0182]])\n",
      "chunks_num 1\n",
      "tensor([0.0209, 0.0117, 0.0137,  ..., 0.0167, 0.0109, 0.0182])\n",
      "torch.Size([32000])\n",
      "----------------------------------------------\n",
      "spekears num 2\n",
      "firs_speaker list: tensor([[ 0.0179,  0.0152,  0.0104,  ...,  0.0005, -0.0008, -0.0029]])\n",
      "chunks_nums 1\n",
      "torch.Size([32000])\n"
     ]
    }
   ],
   "source": [
    "# # Получение первого батча данных из DataLoader\n",
    "# dataloader = dataloaders['train'] \n",
    "# sample_mix, sample_refs = next(iter(dataloader))  \n",
    "# print(sample_mix)\n",
    "# print('chunks_num', len(sample_mix))\n",
    "# print(sample_mix[0])\n",
    "# print(sample_mix[0].shape)\n",
    "# print('----------------------------------------------')\n",
    "# print('spekears num', len(sample_refs))\n",
    "# print('firs_speaker list:', sample_refs[0])\n",
    "# print('chunks_nums', len(sample_refs[0]))\n",
    "# print(sample_refs[0][0].shape)"
   ]
  },
  {
   "cell_type": "markdown",
   "id": "2e982a81-f8d1-4973-9b23-7b39b24e757c",
   "metadata": {
    "jp-MarkdownHeadingCollapsed": true
   },
   "source": [
    "#### Testing dataloaders LAST UPDATE. 2."
   ]
  },
  {
   "cell_type": "code",
   "execution_count": 1,
   "id": "39f08438-1181-491b-bd12-577d472318b9",
   "metadata": {},
   "outputs": [],
   "source": [
    "import argparse\n",
    "import sys\n",
    "from utils.load_config import load_config  \n",
    "\n",
    "parser = argparse.ArgumentParser()\n",
    "parser.add_argument(\"-p\", \"--hparams\", type=str, default=\"./configs/train_rnn.yml\", help=\"hparams config file\")\n",
    "args, unknown = parser.parse_known_args()  # Игнорирует нераспознанные аргументы\n",
    "cfg = load_config(args.hparams)"
   ]
  },
  {
   "cell_type": "code",
   "execution_count": 2,
   "id": "c68d6cd7-d5a3-4ecb-8606-a9cc3746c472",
   "metadata": {},
   "outputs": [
    {
     "name": "stdout",
     "output_type": "stream",
     "text": [
      "Size of training set: 3140\n",
      "Size of validation set: 641\n",
      "Elapsed time 'setup': 00:00:02.50\n"
     ]
    }
   ],
   "source": [
    "from data.DiarizationDataset import DiarizationDataset\n",
    "\n",
    "datamodule = DiarizationDataset(**cfg['data']).setup(stage = 'train')\n",
    "dataloaders = {'train': datamodule.train_dataloader(), 'valid': datamodule.val_dataloader()}"
   ]
  },
  {
   "cell_type": "code",
   "execution_count": 2,
   "id": "9dbfd334-a39e-476d-b91a-421e81787a29",
   "metadata": {},
   "outputs": [],
   "source": [
    "import torch.nn.functional as F\n",
    "import torch\n",
    "import torchaudio\n",
    "\n",
    "from typing import List, Tuple\n",
    "import os.path as ospth\n",
    "\n",
    "def get_file_name(file_path: str):\n",
    "    return ospth.splitext(ospth.basename(file_path))[0]\n",
    "\n",
    "def handle_df(audios: List[Tuple[int, str]]) -> dict:\n",
    "    scp_dict = dict()\n",
    "    for audio in audios:\n",
    "        common_len, l = audio\n",
    "        if len(audio) != 2:\n",
    "            raise RuntimeError(\"Format error in\")\n",
    "        if len(audio) == 2:\n",
    "            key, value = f\"{get_file_name (l)}.flac\", l\n",
    "        if key in scp_dict:\n",
    "            raise ValueError(\"Duplicated key \\'{0}\\' exists in {1}\".format(\n",
    "                l, l))\n",
    "        scp_dict[key] = {'common_len': common_len, 'name': value}\n",
    "    return scp_dict\n",
    "        \n",
    "    \n",
    "def read_wav(fname, return_rate=False):\n",
    "    '''\n",
    "         Read wavfile using Pytorch audio\n",
    "         input:\n",
    "               fname: wav file path\n",
    "               return_rate: Whether to return the sampling rate\n",
    "         output:\n",
    "                src: output tensor of size C x L \n",
    "                     L is the number of audio frames \n",
    "                     C is the number of channels. \n",
    "                sr: sample rate\n",
    "    '''\n",
    "    src, sr = torchaudio.load(fname, channels_first=True)\n",
    "    if return_rate:\n",
    "        return src.squeeze(), sr\n",
    "    else:\n",
    "        return src.squeeze()\n",
    "\n",
    "\n",
    "def write_wav(fname, src, sample_rate):\n",
    "    '''\n",
    "         Write wav file\n",
    "         input:\n",
    "               fname: wav file path\n",
    "               src: frames of audio\n",
    "               sample_rate: An integer which is the sample rate of the audio\n",
    "         output:\n",
    "               None\n",
    "    '''\n",
    "    torchaudio.save(fname, src, sample_rate)\n",
    "\n",
    "\n",
    "class CustomAudioReader(object):\n",
    "    '''\n",
    "        Class that reads Wav format files\n",
    "        Input:\n",
    "            scp_path (str): a different scp file address\n",
    "            sample_rate (int, optional): sample rate (default: 8000)\n",
    "            chunk_size (int, optional): split audio size (default: 32000(4 s))\n",
    "            least_size (int, optional): Minimum split size (default: 16000(2 s))\n",
    "        Output:\n",
    "            split audio (list)\n",
    "    '''\n",
    "\n",
    "    def __init__(self, scp_path, sample_rate=8000, chunk_size=32000, least_size=16000):\n",
    "        super(CustomAudioReader, self).__init__()\n",
    "        self.sample_rate = sample_rate\n",
    "        self.index_dict = handle_df(scp_path)\n",
    "        self.keys = list(self.index_dict.keys())\n",
    "        # print(self.keys[0])\n",
    "        self.audio = []\n",
    "        self.chunk_size = chunk_size\n",
    "        self.least_size = least_size\n",
    "        self.split()\n",
    "\n",
    "    def split(self):\n",
    "        '''\n",
    "            split audio with chunk_size and least_size\n",
    "        '''\n",
    "        for key in self.keys:\n",
    "            common_len, name = self.index_dict[key]['common_len'], self.index_dict[key]['name']\n",
    "            utt = read_wav(name)\n",
    "            utt = utt[:common_len]\n",
    "            if utt.shape[0] < self.least_size:\n",
    "                continue\n",
    "            if utt.shape[0] > self.least_size and utt.shape[0] < self.chunk_size:\n",
    "                gap = self.chunk_size-utt.shape[0]\n",
    "                self.audio.append(F.pad(utt, (0, gap), mode='constant'))\n",
    "            if utt.shape[0] >= self.chunk_size:\n",
    "                start = 0\n",
    "                while True:\n",
    "                    if start + self.chunk_size > utt.shape[0]:\n",
    "                        break\n",
    "                    self.audio.append(utt[start:start+self.chunk_size])\n",
    "                    start += self.least_size\n",
    "\n",
    "    def get_num_after_splitting(self):\n",
    "        print(len(self.audio))"
   ]
  },
  {
   "cell_type": "code",
   "execution_count": 3,
   "id": "e1eee3f8-0ee1-48eb-a9d9-de6f33e56535",
   "metadata": {},
   "outputs": [],
   "source": [
    "import torch\n",
    "\n",
    "import numpy as np\n",
    "\n",
    "class CustomDatasets(torch.utils.data.Dataset):\n",
    "    '''\n",
    "       Load audio data\n",
    "       mix_scp: file path of mix audio (type: str)\n",
    "       ref_scp: file path of ground truth audio (type: list[spk1,spk2])\n",
    "       chunk_size (int, optional): split audio size (default: 32000(4 s))\n",
    "       least_size (int, optional): Minimum split size (default: 16000(2 s))\n",
    "    '''\n",
    "\n",
    "    def __init__(self, df=None, sample_rate=16000, chunk_size=32000, least_size=16000):\n",
    "        super(torch.utils.data.Dataset, self).__init__()\n",
    "        k = len(df.iloc[0]) - 2\n",
    "        mix_scp = []\n",
    "        ref_scp = [[] for _ in range (k)]\n",
    "        \n",
    "        for _, row in df.iterrows():\n",
    "            common_len_idx = row['common_len_idx']\n",
    "            mix_scp.append([common_len_idx, row['mixed_audio']])\n",
    "            i = 0\n",
    "            for col in df.columns[2:]:\n",
    "                audio_value = row[col]\n",
    "                ref_scp[i].append([common_len_idx, audio_value])\n",
    "                i += 1 \n",
    "    \n",
    "        self.mix_audio = CustomAudioReader(mix_scp, sample_rate=sample_rate, chunk_size=chunk_size, least_size=least_size).audio\n",
    "        self.ref_audio = [CustomAudioReader(r, sample_rate=sample_rate, chunk_size=chunk_size, least_size=least_size).audio for r in ref_scp]\n",
    "\n",
    "    def __len__(self):\n",
    "        return len(self.mix_audio)\n",
    "\n",
    "    def __getitem__(self, index):\n",
    "        return self.mix_audio[index], [ref[index] for ref in self.ref_audio]"
   ]
  },
  {
   "cell_type": "code",
   "execution_count": 4,
   "id": "717663dd-4e43-4806-93fa-a7c294bd36b2",
   "metadata": {},
   "outputs": [],
   "source": [
    "from utils.measure_time import measure_time \n",
    "import torch as th\n",
    "import random\n",
    "import numpy as np\n",
    "import math\n",
    "import pandas as pd\n",
    "\n",
    "class TestingDiarizationDataset:\n",
    "    def __init__(self, data_root = './', train_percent = 0.75, valid_percent = 0.15, test_percent = 0.0, shuffle=False, \n",
    "                 num_workers=0, batch_size=1, pin_memory = False, sample_rate=8000, chunk_size=32000, least_size=16000, seed = 42):\n",
    "        self.shuffle = shuffle\n",
    "        self.num_workers = num_workers\n",
    "        self.batch_size = batch_size\n",
    "        self.pin_memory = pin_memory\n",
    "        self.sample_rate = sample_rate\n",
    "        self.chunk_size = chunk_size\n",
    "        self.least_size = least_size\n",
    "        self.seed = seed\n",
    "        self._set_seed(seed)\n",
    "        self.g = th.Generator()\n",
    "        self.g.manual_seed(seed)\n",
    "        full_data_df = pd.read_csv(data_root) \n",
    "        assert math.isclose(train_percent + valid_percent + test_percent, 1.0, rel_tol=1e-9), \"Sum doesnt equal to 1\" \n",
    "        train_size = int(train_percent * len(full_data_df)) \n",
    "        val_size = int(valid_percent * len(full_data_df)) \n",
    "        test_size = len(full_data_df) - train_size - val_size\n",
    "        self.train_df = full_data_df.iloc[:train_size] \n",
    "        self.val_df = full_data_df.iloc[train_size:train_size + val_size] \n",
    "        self.test_df = full_data_df.iloc[train_size + val_size:]\n",
    "         \n",
    "    @measure_time\n",
    "    def setup(self, stage = 'train'):\n",
    "        assert stage in ['train', 'eval'], \"Invalid stage\" \n",
    "        if stage == 'train': \n",
    "            self.train_dataset = CustomDatasets(self.train_df, \n",
    "                                            sample_rate = self.sample_rate,\n",
    "                                            chunk_size = self.chunk_size,\n",
    "                                            least_size = self.least_size)\n",
    "            print(f\"Size of training set: {len(self.train_dataset)}\")\n",
    "            self.val_dataset = CustomDatasets(self.val_df, \n",
    "                                        sample_rate = self.sample_rate,\n",
    "                                        chunk_size = self.chunk_size,\n",
    "                                        least_size = self.least_size)\n",
    "            print(f\"Size of validation set: {len(self.val_dataset)}\")\n",
    "        # To Do \n",
    "        # self.test_dataset\n",
    "        \n",
    "        return self # warning! \n",
    "        \n",
    "    def train_dataloader(self):\n",
    "        return th.utils.data.DataLoader(self.train_dataset,\n",
    "                                    batch_size = self.batch_size,\n",
    "                                    pin_memory = self.pin_memory,\n",
    "                                    shuffle = self.shuffle,\n",
    "                                    num_workers = self.num_workers,\n",
    "                                    worker_init_fn=self.seed_worker,\n",
    "                                    generator=self.g)\n",
    "        \n",
    "    def val_dataloader(self):\n",
    "        return th.utils.data.DataLoader(self.train_dataset,\n",
    "                                    batch_size = self.batch_size,\n",
    "                                    pin_memory = self.pin_memory,\n",
    "                                    shuffle = False,\n",
    "                                    num_workers = self.num_workers,\n",
    "                                    worker_init_fn=self.seed_worker,\n",
    "                                    generator=self.g)\n",
    "\n",
    "    def _set_seed(self, seed: int):\n",
    "        random.seed(seed)\n",
    "        np.random.seed(seed)\n",
    "        th.manual_seed(seed)\n",
    "        th.cuda.manual_seed_all(seed)\n",
    "\n",
    "    def seed_worker(self, worker_id):\n",
    "        worker_seed = th.initial_seed() % 2**32\n",
    "        np.random.seed(worker_seed)\n",
    "        random.seed(worker_seed)\n",
    "        \n",
    "    # ToDo\n",
    "    # def test_dataloader(self):"
   ]
  },
  {
   "cell_type": "code",
   "execution_count": 5,
   "id": "3b33ec27-5bc7-441f-987d-6dcf7680e735",
   "metadata": {},
   "outputs": [
    {
     "name": "stdout",
     "output_type": "stream",
     "text": [
      "Size of training set: 3140\n",
      "Size of validation set: 641\n",
      "Elapsed time 'setup': 00:00:02.54\n"
     ]
    }
   ],
   "source": [
    "datamodule = TestingDiarizationDataset(**cfg['data']).setup(stage = 'train')\n",
    "dataloaders = {'train': datamodule.train_dataloader(), 'valid': datamodule.val_dataloader()}"
   ]
  },
  {
   "cell_type": "code",
   "execution_count": 6,
   "id": "86eab67a-d15b-410f-8119-737850f6ce85",
   "metadata": {},
   "outputs": [
    {
     "name": "stdout",
     "output_type": "stream",
     "text": [
      "tensor([[0.0209, 0.0117, 0.0137,  ..., 0.0167, 0.0109, 0.0182]])\n",
      "chunks_num 1\n",
      "tensor([0.0209, 0.0117, 0.0137,  ..., 0.0167, 0.0109, 0.0182])\n",
      "torch.Size([32000])\n",
      "----------------------------------------------\n",
      "spekears num 2\n",
      "firs_speaker list: tensor([[ 0.0179,  0.0152,  0.0104,  ...,  0.0005, -0.0008, -0.0029]])\n",
      "chunks_nums 1\n",
      "torch.Size([32000])\n"
     ]
    }
   ],
   "source": [
    "# Получение первого батча данных из DataLoader\n",
    "dataloader = dataloaders['train'] \n",
    "sample_mix, sample_refs = next(iter(dataloader))  \n",
    "print(sample_mix)\n",
    "print('chunks_num', len(sample_mix))\n",
    "print(sample_mix[0])\n",
    "print(sample_mix[0].shape)\n",
    "print('----------------------------------------------')\n",
    "print('spekears num', len(sample_refs))\n",
    "print('firs_speaker list:', sample_refs[0])\n",
    "print('chunks_nums', len(sample_refs[0]))\n",
    "print(sample_refs[0][0].shape)"
   ]
  },
  {
   "cell_type": "code",
   "execution_count": null,
   "id": "53bd2cea-0cee-4641-a922-94bd4a456d2b",
   "metadata": {},
   "outputs": [],
   "source": [
    "tensor([[0.0209, 0.0117, 0.0137,  ..., 0.0167, 0.0109, 0.0182]])\n",
    "chunks_num 1\n",
    "tensor([0.0209, 0.0117, 0.0137,  ..., 0.0167, 0.0109, 0.0182])\n",
    "torch.Size([32000])\n",
    "----------------------------------------------\n",
    "spekears num 2\n",
    "firs_speaker list: tensor([[ 0.0179,  0.0152,  0.0104,  ...,  0.0005, -0.0008, -0.0029]])\n",
    "chunks_nums 1\n",
    "torch.Size([32000])"
   ]
  },
  {
   "cell_type": "code",
   "execution_count": null,
   "id": "48d2e86d-74b8-47d6-8a43-7020ac31c5a2",
   "metadata": {},
   "outputs": [],
   "source": [
    "# Size of training set: 3140\n",
    "# Size of validation set: 641\n",
    "# Elapsed time 'setup': 00:00:03.57"
   ]
  },
  {
   "cell_type": "markdown",
   "id": "4afd01ae-9b8b-45f8-8c82-faf719452de2",
   "metadata": {},
   "source": [
    "#### Training."
   ]
  },
  {
   "cell_type": "code",
   "execution_count": 1,
   "id": "cf5e89e6-598a-4dba-93ce-1d2c8631dca7",
   "metadata": {},
   "outputs": [],
   "source": [
    "import argparse\n",
    "import sys\n",
    "from utils.load_config import load_config  \n",
    "\n",
    "parser = argparse.ArgumentParser()\n",
    "parser.add_argument(\"-p\", \"--hparams\", type=str, default=\"./configs/train_rnn.yml\", help=\"hparams config file\")\n",
    "args, unknown = parser.parse_known_args()  # Игнорирует нераспознанные аргументы"
   ]
  },
  {
   "cell_type": "code",
   "execution_count": 2,
   "id": "614e4453-a2d5-482c-ba2b-4313e26446e3",
   "metadata": {},
   "outputs": [
    {
     "name": "stdout",
     "output_type": "stream",
     "text": [
      "Size of training set: 3140\n",
      "Size of validation set: 641\n",
      "Elapsed time 'setup': 00:00:05.69\n",
      "Trainable parametrs: 2633729\n",
      "Size of model: 10.05 MB, in float32\n"
     ]
    }
   ],
   "source": [
    "import os\n",
    "import argparse\n",
    "from pathlib import Path\n",
    "\n",
    "import torch\n",
    "import torchmetrics\n",
    "from torch.utils.tensorboard import SummaryWriter as TensorBoard\n",
    "from tqdm.notebook import tqdm\n",
    "from losses import Loss\n",
    "\n",
    "from utils.load_config import load_config \n",
    "from utils.training import metadata_info, configure_optimizer, p_output_log\n",
    "from utils.measure_time import measure_time\n",
    "from models.model_rnn import Dual_RNN_model\n",
    "from data.DiarizationDataset import DiarizationDataset\n",
    "\n",
    "\n",
    "torch.cuda.empty_cache()\n",
    "torch.backends.cuda.matmul.allow_tf32 = True\n",
    "torch.backends.cudnn.allow_tf32 = True\n",
    "torch.set_float32_matmul_precision('medium')\n",
    "\n",
    "cfg = load_config(args.hparams)\n",
    "datamodule = DiarizationDataset(**cfg['data']).setup(stage = 'train')\n",
    "dataloaders = {'train': datamodule.train_dataloader(), 'valid': datamodule.val_dataloader()}\n",
    "model = Dual_RNN_model(**cfg['model'])\n",
    "metadata_info(model)\n",
    "writer = TensorBoard(f'tb_logs/{Path(args.hparams).stem}', comment = f\"{cfg['trainer']['ckpt_folder']}\")\n",
    "optimizer = configure_optimizer (cfg, model)"
   ]
  },
  {
   "cell_type": "code",
   "execution_count": 3,
   "id": "ab5ce649-f26c-457d-b086-5a0781fe2b67",
   "metadata": {},
   "outputs": [],
   "source": [
    "from utils.checkpointer import Checkpointer\n",
    "from utils.training import *\n",
    "\n",
    "\n",
    "class Trainer:\n",
    "    def __init__(self, num_epochs = 100, device='cuda', best_weights = False, checkpointing = False, \n",
    "                 checkpoint_interval = 10, model_name = '', trained_model = './', path_to_weights= './weights', \n",
    "                 ckpt_folder = '', speaker_num = 2, resume = False) -> None:\n",
    "        self.num_epochs = num_epochs\n",
    "        self.device = device\n",
    "        self.best_weights = best_weights\n",
    "        self.ckpointer = Checkpointer(model_name, path_to_weights, ckpt_folder, metrics = False)\n",
    "        self.checkpointing = checkpointing\n",
    "        self.checkpoint_interval = checkpoint_interval\n",
    "        self.model_name = model_name\n",
    "        os.makedirs(path_to_weights, exist_ok=True)\n",
    "        self.path_to_weights = path_to_weights\n",
    "        self.ckpt_folder = ckpt_folder\n",
    "        self.speaker_num = speaker_num\n",
    "        self.resume = resume\n",
    "        self.trained_model = trained_model\n",
    "\n",
    "    @measure_time\n",
    "    def fit(self, model, dataloaders, criterion, optimizer, writer) -> None:\n",
    "        model.to(self.device)\n",
    "        start_epoch, min_val_loss, model, optimizer = self.load_pretrained_model(model, optimizer)\n",
    "        epoch_state = EpochState(metrics = None)\n",
    "        for epoch in tqdm(range(start_epoch, self.num_epochs)):\n",
    "            for phase in ['train', 'valid']:\n",
    "                model.train() if phase == 'train' else model.eval()\n",
    "                dataloader = dataloaders[phase] \n",
    "                running_loss = 0.0\n",
    "                for inputs, labels in dataloader:\n",
    "                    inputs, labels = inputs.to(self.device), [l.to(self.device) for l in labels]\n",
    "                    with torch.set_grad_enabled(phase == 'train'):\n",
    "                        outputs = model(inputs)\n",
    "                        loss = criterion(outputs, labels)\n",
    "                        if phase == 'train':\n",
    "                            optimizer.zero_grad()\n",
    "                            loss.backward()\n",
    "                            optimizer.step()\n",
    "                    running_loss += loss.item()\n",
    "                epoch_loss = running_loss / len(dataloader.dataset)\n",
    "                epoch_state.update_state(epoch_loss, phase)\n",
    "                p_output_log(self.num_epochs, epoch, phase, epoch_state)\n",
    "                \n",
    "                if phase == 'valid' and self.best_weights and epoch_loss < min_val_loss:\n",
    "                    min_val_loss = epoch_loss\n",
    "                    self.ckpointer.save_best_weight(model, optimizer, epoch, epoch_state)\n",
    "            \n",
    "            torch_logger(writer, epoch, epoch_state)\n",
    "            \n",
    "            if self.checkpointing and (epoch + 1) % self.checkpoint_interval == 0:\n",
    "                self.ckpointer.save_checkpoint(model, optimizer, epoch, epoch_state)\n",
    "\n",
    "    def load_pretrained_model(self, model, optimizer):\n",
    "        if self.trained_model:\n",
    "            print(f\"Load pretrained mode: {self.trained_model}\", '\\n')\n",
    "            checkpoint = torch.load(self.trained_model, map_location=self.device)\n",
    "            model.load_state_dict(checkpoint['model_state_dict'])\n",
    "            optimizer.load_state_dict(checkpoint['optimizer_state_dict'])\n",
    "            return checkpoint['epoch'] + 1, checkpoint['val_loss'] , model, optimizer\n",
    "        else:\n",
    "            return 0, float('inf'), model, optimizer"
   ]
  },
  {
   "cell_type": "code",
   "execution_count": null,
   "id": "bc2ae70a-68fa-4c00-86b6-2d04a2def233",
   "metadata": {
    "scrolled": true
   },
   "outputs": [
    {
     "name": "stdout",
     "output_type": "stream",
     "text": [
      "Load pretrained mode: checkpoints/train_rnn/checkpoint_Dual_Path_RNN_epoch_53.pt \n",
      "\n"
     ]
    },
    {
     "data": {
      "application/vnd.jupyter.widget-view+json": {
       "model_id": "d75315bb3a8e493d8f3a4da85ed23213",
       "version_major": 2,
       "version_minor": 0
      },
      "text/plain": [
       "  0%|          | 0/46 [00:00<?, ?it/s]"
      ]
     },
     "metadata": {},
     "output_type": "display_data"
    },
    {
     "name": "stdout",
     "output_type": "stream",
     "text": [
      "Epoch 55/100\n",
      "TRAIN, Loss: -3.5740\n",
      "VALID, Loss: -1.1847\n",
      "------------------------------------------------------------------------------------------------------------ \n",
      "\n",
      "Epoch 56/100\n",
      "TRAIN, Loss: -3.4789\n",
      "VALID, Loss: -1.1780\n",
      "------------------------------------------------------------------------------------------------------------ \n",
      "\n",
      "Epoch 57/100\n",
      "TRAIN, Loss: -3.6516\n",
      "VALID, Loss: -1.2647\n",
      "------------------------------------------------------------------------------------------------------------ \n",
      "\n",
      "Epoch 58/100\n",
      "TRAIN, Loss: -3.6470\n",
      "VALID, Loss: -1.2242\n",
      "------------------------------------------------------------------------------------------------------------ \n",
      "\n",
      "Epoch 59/100\n",
      "TRAIN, Loss: -3.6005\n",
      "VALID, Loss: -1.1733\n",
      "------------------------------------------------------------------------------------------------------------ \n",
      "\n",
      "Epoch 60/100\n",
      "TRAIN, Loss: -3.8028\n",
      "VALID, Loss: -1.1367\n",
      "------------------------------------------------------------------------------------------------------------ \n",
      "\n",
      "Epoch 61/100\n",
      "TRAIN, Loss: -3.6472\n",
      "VALID, Loss: -1.2558\n",
      "------------------------------------------------------------------------------------------------------------ \n",
      "\n",
      "Epoch 62/100\n",
      "TRAIN, Loss: -3.7131\n",
      "VALID, Loss: -1.0721\n",
      "------------------------------------------------------------------------------------------------------------ \n",
      "\n",
      "Epoch 63/100\n",
      "TRAIN, Loss: -3.7953\n",
      "VALID, Loss: -1.2384\n",
      "------------------------------------------------------------------------------------------------------------ \n",
      "\n",
      "Epoch 64/100\n",
      "TRAIN, Loss: -3.7752\n",
      "VALID, Loss: -1.2646\n",
      "------------------------------------------------------------------------------------------------------------ \n",
      "\n",
      "Epoch 65/100\n",
      "TRAIN, Loss: -3.7308\n",
      "VALID, Loss: -1.3416\n",
      "------------------------------------------------------------------------------------------------------------ \n",
      "\n",
      "Epoch 66/100\n",
      "TRAIN, Loss: -3.9012\n",
      "VALID, Loss: -1.2441\n",
      "------------------------------------------------------------------------------------------------------------ \n",
      "\n",
      "Epoch 67/100\n",
      "TRAIN, Loss: -3.7937\n",
      "VALID, Loss: -1.2899\n",
      "------------------------------------------------------------------------------------------------------------ \n",
      "\n",
      "Epoch 68/100\n",
      "TRAIN, Loss: -3.7532\n",
      "VALID, Loss: -1.3078\n",
      "------------------------------------------------------------------------------------------------------------ \n",
      "\n",
      "Epoch 69/100\n",
      "TRAIN, Loss: -3.8232\n",
      "VALID, Loss: -1.0479\n",
      "------------------------------------------------------------------------------------------------------------ \n",
      "\n",
      "Epoch 70/100\n",
      "TRAIN, Loss: -3.8900\n",
      "VALID, Loss: -1.3200\n",
      "------------------------------------------------------------------------------------------------------------ \n",
      "\n",
      "Epoch 71/100\n",
      "TRAIN, Loss: -3.9883\n",
      "VALID, Loss: -1.3412\n",
      "------------------------------------------------------------------------------------------------------------ \n",
      "\n",
      "Epoch 72/100\n",
      "TRAIN, Loss: -3.8186\n",
      "VALID, Loss: -1.2594\n",
      "------------------------------------------------------------------------------------------------------------ \n",
      "\n",
      "Epoch 73/100\n",
      "TRAIN, Loss: -3.8217\n",
      "VALID, Loss: -1.2846\n",
      "------------------------------------------------------------------------------------------------------------ \n",
      "\n",
      "Epoch 74/100\n",
      "TRAIN, Loss: -3.8358\n",
      "VALID, Loss: -1.1947\n",
      "------------------------------------------------------------------------------------------------------------ \n",
      "\n",
      "Epoch 75/100\n",
      "TRAIN, Loss: -3.9232\n",
      "VALID, Loss: -1.3530\n",
      "------------------------------------------------------------------------------------------------------------ \n",
      "\n",
      "Epoch 76/100\n",
      "TRAIN, Loss: -3.9819\n",
      "VALID, Loss: -1.3656\n",
      "------------------------------------------------------------------------------------------------------------ \n",
      "\n",
      "Epoch 77/100\n",
      "TRAIN, Loss: -3.9955\n",
      "VALID, Loss: -0.9294\n",
      "------------------------------------------------------------------------------------------------------------ \n",
      "\n",
      "Epoch 78/100\n",
      "TRAIN, Loss: -3.9825\n",
      "VALID, Loss: -1.4150\n",
      "------------------------------------------------------------------------------------------------------------ \n",
      "\n",
      "Epoch 79/100\n",
      "TRAIN, Loss: -4.1045\n",
      "VALID, Loss: -1.2654\n",
      "------------------------------------------------------------------------------------------------------------ \n",
      "\n"
     ]
    }
   ],
   "source": [
    "Trainer(**cfg['trainer']).fit(model, \n",
    "                              dataloaders, \n",
    "                              Loss, \n",
    "                              optimizer, \n",
    "                              writer)"
   ]
  },
  {
   "cell_type": "code",
   "execution_count": null,
   "id": "dc0d0abd-cd16-47ad-86bf-a2bfb5de144e",
   "metadata": {},
   "outputs": [],
   "source": [
    "# -0.006113536467115659\n",
    "# -0.010819169912267878\n",
    "\n",
    "# - 0.0474,\n",
    "# -0.0838, \n",
    "\n",
    "# -14"
   ]
  }
 ],
 "metadata": {
  "kernelspec": {
   "display_name": "Python 3 (ipykernel)",
   "language": "python",
   "name": "python3"
  },
  "language_info": {
   "codemirror_mode": {
    "name": "ipython",
    "version": 3
   },
   "file_extension": ".py",
   "mimetype": "text/x-python",
   "name": "python",
   "nbconvert_exporter": "python",
   "pygments_lexer": "ipython3",
   "version": "3.9.0"
  }
 },
 "nbformat": 4,
 "nbformat_minor": 5
}
