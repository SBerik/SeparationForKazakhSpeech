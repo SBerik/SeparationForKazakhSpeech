{
 "cells": [
  {
   "cell_type": "markdown",
   "id": "b639a159-037f-4ff8-9352-10d60c2f33fd",
   "metadata": {},
   "source": [
    "#### Testing dataset"
   ]
  },
  {
   "cell_type": "code",
   "execution_count": 1,
   "id": "875ee058-0d14-40bd-b05c-212a0e1dd34f",
   "metadata": {},
   "outputs": [],
   "source": [
    "import random\n",
    "from glob import glob\n",
    "import numpy as np\n",
    "import torch as th\n",
    "from torch.utils.data import Dataset, DataLoader\n",
    "import pytorch_lightning as pl\n",
    "from typing import Optional\n",
    "import argparse\n",
    "\n",
    "from utils.funtctional import handle_scp\n",
    "from utils.data_processing import read_wav\n",
    "from utils.load_config import load_config \n",
    "\n",
    "EPS = 1e-8"
   ]
  },
  {
   "cell_type": "code",
   "execution_count": 6,
   "id": "a35300f6-aa62-4640-a78f-58a865a53dc8",
   "metadata": {},
   "outputs": [
    {
     "data": {
      "text/plain": [
       "{'data_mixed': './mixed_data/',\n",
       " 'data_targets': './targets/',\n",
       " 'train_percent': 0.8,\n",
       " 'valid_percent': 0.1,\n",
       " 'test_percent': 0.1,\n",
       " 'num_workers': 1,\n",
       " 'batch_size': 1,\n",
       " 'sample_rate': 16000,\n",
       " 'chunk_size': 32000,\n",
       " 'least_size': 16000}"
      ]
     },
     "execution_count": 6,
     "metadata": {},
     "output_type": "execute_result"
    }
   ],
   "source": [
    "cfg, ckpt_folder = load_config('./config/train_rnn.yml')\n",
    "cfg['data']"
   ]
  },
  {
   "cell_type": "code",
   "execution_count": 7,
   "id": "fd4e47f7-121d-4ca2-80c1-a2b01f9da6c1",
   "metadata": {},
   "outputs": [],
   "source": [
    "class AudioDataset(Dataset):\n",
    "    def __init__(self, mix_scp: str, ref_scp: list, sample_rate: int = 8000, chunk_size: int = 32000, least_size: int = 16000):\n",
    "        self.sample_rate = sample_rate\n",
    "        self.chunk_size = chunk_size\n",
    "        self.least_size = least_size\n",
    "\n",
    "        self.mix_audio = self._load_audio(mix_scp)\n",
    "        self.ref_audio = [self._load_audio(ref) for ref in ref_scp]\n",
    "\n",
    "    def _load_audio(self, scp_path):\n",
    "        index_dict = handle_scp(scp_path)\n",
    "        audio_data = []\n",
    "        for key in index_dict.keys():\n",
    "            src, sr = read_wav(index_dict[key], return_rate=True)\n",
    "            if sr != self.sample_rate:\n",
    "                raise RuntimeError(f\"Sample rate mismatch: {sr} vs {self.sample_rate}\")\n",
    "            audio_data.append(src)\n",
    "        return audio_data\n",
    "\n",
    "    def __len__(self):\n",
    "        return len(self.mix_audio)\n",
    "\n",
    "    def __getitem__(self, idx):\n",
    "        mix_sample = self.mix_audio[idx]\n",
    "        ref_samples = [ref[idx] for ref in self.ref_audio]\n",
    "        return mix_sample, ref_samples\n",
    "\n",
    "\n",
    "class AudioDataModule(pl.LightningDataModule):\n",
    "    def __init__(self, train_scp, val_scp, ref_scp_train, ref_scp_val, batch_size=128, sample_rate=8000, chunk_size=32000, \n",
    "                 least_size=16000, num_workers=4, pin_memory=False, seed=42):\n",
    "        super().__init__()\n",
    "        self.train_scp = train_scp\n",
    "        self.val_scp = val_scp\n",
    "        self.ref_scp_train = ref_scp_train\n",
    "        self.ref_scp_val = ref_scp_val\n",
    "        self.batch_size = batch_size\n",
    "        self.sample_rate = sample_rate\n",
    "        self.chunk_size = chunk_size\n",
    "        self.least_size = least_size\n",
    "        self.num_workers = num_workers\n",
    "        self.pin_memory = pin_memory\n",
    "        self.seed = seed\n",
    "\n",
    "        self._set_seed(seed)\n",
    "\n",
    "    def setup(self, stage: Optional[str] = None):\n",
    "        self.train_dataset = AudioDataset(self.train_scp, self.ref_scp_train, sample_rate=self.sample_rate, \n",
    "                                          chunk_size=self.chunk_size, least_size=self.least_size)\n",
    "        self.val_dataset = AudioDataset(self.val_scp, self.ref_scp_val, sample_rate=self.sample_rate, \n",
    "                                        chunk_size=self.chunk_size, least_size=self.least_size)\n",
    "\n",
    "    def train_dataloader(self):\n",
    "        return DataLoader(self.train_dataset, batch_size=self.batch_size, shuffle=True, num_workers=self.num_workers, \n",
    "                          pin_memory=self.pin_memory, worker_init_fn=self.seed_worker)\n",
    "\n",
    "    def val_dataloader(self):\n",
    "        return DataLoader(self.val_dataset, batch_size=self.batch_size, shuffle=False, num_workers=self.num_workers, \n",
    "                          pin_memory=self.pin_memory, worker_init_fn=self.seed_worker)\n",
    "\n",
    "    def _set_seed(self, seed: int):\n",
    "        random.seed(seed)\n",
    "        np.random.seed(seed)\n",
    "        th.manual_seed(seed)\n",
    "        th.cuda.manual_seed_all(seed)\n",
    "\n",
    "    def seed_worker(self, worker_id):\n",
    "        worker_seed = th.initial_seed() % 2**32\n",
    "        np.random.seed(worker_seed)\n",
    "        random.seed(worker_seed)"
   ]
  },
  {
   "cell_type": "code",
   "execution_count": null,
   "id": "55b9e804-b59b-414d-87d7-7821d1df20f7",
   "metadata": {},
   "outputs": [],
   "source": [
    "datamodule = AudioDataModule(**cfg['data'])"
   ]
  },
  {
   "cell_type": "code",
   "execution_count": null,
   "id": "3b9c4eb7-8a7f-4ad8-bfa6-ddf1fbdd3a51",
   "metadata": {},
   "outputs": [],
   "source": [
    "train_dataloader, val_dataloader = make_dataloader(**cfg['data'])\n",
    "dataloaders = {'train': train_dataloader, 'valid': val_dataloader}"
   ]
  },
  {
   "cell_type": "code",
   "execution_count": null,
   "id": "886ca598-f521-4572-875f-d673c059d20c",
   "metadata": {},
   "outputs": [],
   "source": []
  },
  {
   "cell_type": "code",
   "execution_count": null,
   "id": "83aa3513-d0b9-4f29-aff4-9fb5d3819fa0",
   "metadata": {},
   "outputs": [],
   "source": []
  }
 ],
 "metadata": {
  "kernelspec": {
   "display_name": "Python 3 (ipykernel)",
   "language": "python",
   "name": "python3"
  },
  "language_info": {
   "codemirror_mode": {
    "name": "ipython",
    "version": 3
   },
   "file_extension": ".py",
   "mimetype": "text/x-python",
   "name": "python",
   "nbconvert_exporter": "python",
   "pygments_lexer": "ipython3",
   "version": "3.9.0"
  }
 },
 "nbformat": 4,
 "nbformat_minor": 5
}
