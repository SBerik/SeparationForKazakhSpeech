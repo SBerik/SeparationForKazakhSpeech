{
 "cells": [
  {
   "cell_type": "markdown",
   "id": "14234ca6-8b70-4324-9b78-5081273407d2",
   "metadata": {},
   "source": [
    "#### Testing Dataset"
   ]
  },
  {
   "cell_type": "code",
   "execution_count": 1,
   "id": "ebc69ca4-37f6-4aa3-be38-7222b2822758",
   "metadata": {},
   "outputs": [],
   "source": [
    "import os\n",
    "import random\n",
    "import math\n",
    "from glob import glob\n",
    "import torch as th\n",
    "import torchaudio\n",
    "import pytorch_lightning as pl\n",
    "from typing import Optional, List\n",
    "import torch.nn.functional as F\n",
    "import pandas as pd \n",
    "from tqdm.notebook import tqdm \n",
    "import numpy as np\n",
    "\n",
    "from utils.measure_time import measure_time "
   ]
  },
  {
   "cell_type": "code",
   "execution_count": 2,
   "id": "fd4e47f7-121d-4ca2-80c1-a2b01f9da6c1",
   "metadata": {},
   "outputs": [],
   "source": [
    "class AudioDataset(th.utils.data.Dataset):\n",
    "    \n",
    "    def __init__(self, mix_file_paths: List[str], ref_file_paths: List[List[str]], \n",
    "                 sr: int = 8000, chunk_size: int = 32000, least_size: int = 16000):\n",
    "        super().__init__()\n",
    "        self.mix_audio = []\n",
    "        self.ref_audio = []\n",
    "        k = len(ref_file_paths[0])\n",
    "        for mix_path, ref_paths in zip(mix_file_paths, ref_file_paths):\n",
    "            chunked_mix = self._load_audio(mix_path, sr, chunk_size, least_size)\n",
    "            if not chunked_mix: continue\n",
    "            ref_audio_chunks = [self._load_audio(ref_path, sr, chunk_size, least_size) for ref_path in ref_paths]\n",
    "            if k != len(ref_audio_chunks): continue\n",
    "            self.mix_audio.append(chunked_mix)\n",
    "            self.ref_audio.append(ref_audio_chunks)\n",
    "\n",
    "    def __len__(self):\n",
    "        return len(self.mix_audio)\n",
    "\n",
    "    def __getitem__(self, idx):\n",
    "        mix = self.mix_audio[idx]\n",
    "        refs = self.ref_audio[idx]\n",
    "        # refs = [ref[idx] for ref in self.ref_audio]\n",
    "        return mix, refs\n",
    "    \n",
    "    @staticmethod\n",
    "    def _load_audio(path:str, sr: int, chunk_size: int, least_size: int):\n",
    "        audio, _sr = torchaudio.load(path)\n",
    "        if _sr != sr: raise RuntimeError(f\"Sample rate mismatch: {_sr} vs {sr}\")\n",
    "        if audio.shape[-1] < least_size: return []\n",
    "        audio_chunks = []\n",
    "        if least_size < audio.shape[-1] < chunk_size:\n",
    "            pad_size = chunk_size - audio.shape[-1]\n",
    "            audio_chunks.append(F.pad(audio, (0, pad_size), mode='constant'))\n",
    "        else:\n",
    "            start = 0\n",
    "            while start + chunk_size <= audio.shape[-1]:\n",
    "                audio = audio.squeeze() # warning\n",
    "                audio_chunks.append(audio[start:start + chunk_size])\n",
    "                start += least_size\n",
    "        return audio_chunks \n",
    "\n",
    "\n",
    "class AudioDataModule(pl.LightningDataModule):\n",
    "    def __init__(self, data_dir: str, csv_file:bool = False, total_percent: float = 0.1, train_percent:float = 0.8, valid_percent:float = 0.1, \n",
    "                 test_percent: float = 0.1, num_workers: int = 4, batch_size: int = 512, pin_memory = False, seed: int = 42, \n",
    "                 sample_rate: int = 8000, chunk_size: int = 32000, least_size: int = 16000):\n",
    "        super().__init__()\n",
    "        self.batch_size = batch_size\n",
    "        self.sr = sample_rate\n",
    "        self.chunk_size = chunk_size\n",
    "        self.least_size = least_size\n",
    "        self.num_workers = num_workers\n",
    "        self.pin_memory = pin_memory\n",
    "        self.seed = seed\n",
    "        self._set_seed(seed)\n",
    "        self.g = th.Generator()\n",
    "        self.g.manual_seed(seed)\n",
    "        self.mix_paths = []\n",
    "        self.ref_paths = []\n",
    "        \n",
    "        if csv_file:\n",
    "            full_df = pd.read_csv(data_dir)\n",
    "            for _, row in full_df.iterrows():\n",
    "                self.mix_paths.append (row.iloc[0])\n",
    "                self.ref_paths.append(sorted([row[column] for column in full_df.columns[1:]]))\n",
    "        else:\n",
    "            mixed_list = glob(os.path.join(data_dir, \"*.flac\"))\n",
    "            for mx in tqdm(mixed_list):\n",
    "                mx = mx.replace('\\\\', '/')\n",
    "                self.mix_paths.append (mx)\n",
    "                mx_df = pd.read_csv(mx.replace('flac', 'csv'))\n",
    "                f_real = sorted([mx_df.iloc[0][column] for column in mx_df.columns[1:]])\n",
    "                self.ref_paths.append(f_real)\n",
    "\n",
    "        self.mix_paths = self.mix_paths[:int(len(self.mix_paths) * total_percent)]\n",
    "        self.ref_paths = self.ref_paths[:int(len(self.ref_paths) * total_percent)]\n",
    "        random.shuffle(self.mix_paths)\n",
    "        assert math.isclose(train_percent + valid_percent + test_percent, 1.0, rel_tol=1e-9), \"Sum doesnt equal to 1\" \n",
    "        self.train_len = int(len(self.mix_paths) * train_percent)\n",
    "        self.valid_len = int(len(self.mix_paths) * valid_percent)\n",
    "        self.test_len = int(len(self.mix_paths) * test_percent)\n",
    "\n",
    "    @measure_time\n",
    "    def setup(self, stage = 'train'):\n",
    "        assert stage in ['train', 'eval'], \"Invalid stage\"\n",
    "        \n",
    "        if stage == 'train': \n",
    "            self.train_dataset = AudioDataset(self.mix_paths[:self.train_len], \n",
    "                                              self.ref_paths[:self.train_len], \n",
    "                                              sr = self.sr, \n",
    "                                              chunk_size = self.chunk_size, \n",
    "                                              least_size = self.least_size)\n",
    "            print(f\"Size of training set: {len(self.train_dataset)}\")\n",
    "            \n",
    "            self.val_dataset = AudioDataset(self.mix_paths[self.train_len:self.train_len + self.valid_len], \n",
    "                                            self.ref_paths[self.train_len:self.train_len + self.valid_len], \n",
    "                                            sr = self.sr, \n",
    "                                            chunk_size = self.chunk_size, \n",
    "                                            least_size = self.least_size) \n",
    "\n",
    "        if stage == 'eval':\n",
    "            self.test_dataset = AudioDataset(self.mix_paths[self.train_len + self.valid_len:], \n",
    "                                             self.ref_paths[self.train_len + self.valid_len:], \n",
    "                                             sr = self.sr, \n",
    "                                             chunk_size = self.chunk_size, \n",
    "                                             least_size = self.least_size)\n",
    "            print(f\"Size of test set: {len(self.test_dataset)}\")\n",
    "\n",
    "        \n",
    "    def train_dataloader(self):\n",
    "        res = th.utils.data.DataLoader(self.train_dataset, \n",
    "                                        batch_size=self.batch_size, \n",
    "                                        pin_memory = self.pin_memory,\n",
    "                                        shuffle=True, \n",
    "                                        num_workers=self.num_workers,\n",
    "                                        worker_init_fn=self.seed_worker,\n",
    "                                        generator=self.g)\n",
    "        sample_mix, sample_refs = next(iter(res))  # Используем iter и next для доступа к данным\n",
    "        print(sample_mix)\n",
    "        print(sample_refs)\n",
    "        return res\n",
    "\n",
    "    def val_dataloader(self):\n",
    "        return th.utils.data.DataLoader(self.val_dataset, \n",
    "                                        batch_size=self.batch_size, \n",
    "                                        pin_memory = self.pin_memory,\n",
    "                                        shuffle=False, \n",
    "                                        num_workers=self.num_workers,\n",
    "                                        worker_init_fn=self.seed_worker,\n",
    "                                        generator=self.g)\n",
    "\n",
    "    def test_dataloader(self):\n",
    "        return th.utils.data.DataLoader(self.test_dataset, \n",
    "                                        batch_size=self.batch_size,\n",
    "                                        pin_memory = self.pin_memory, \n",
    "                                        shuffle=False, \n",
    "                                        num_workers=self.num_workers, \n",
    "                                        worker_init_fn=self.seed_worker,\n",
    "                                        generator=self.g)\n",
    "\n",
    "    def _set_seed(self, seed: int):\n",
    "        random.seed(seed)\n",
    "        np.random.seed(seed)\n",
    "        th.manual_seed(seed)\n",
    "        th.cuda.manual_seed_all(seed)\n",
    "\n",
    "    def seed_worker(self, worker_id):\n",
    "        worker_seed = th.initial_seed() % 2**32\n",
    "        np.random.seed(worker_seed)\n",
    "        random.seed(worker_seed)"
   ]
  },
  {
   "cell_type": "code",
   "execution_count": 3,
   "id": "88fd87ed-9d94-4344-bac5-49e2010bba15",
   "metadata": {},
   "outputs": [],
   "source": [
    "import argparse\n",
    "import sys\n",
    "from utils.load_config import load_config  \n",
    "\n",
    "parser = argparse.ArgumentParser()\n",
    "parser.add_argument(\"-p\", \"--hparams\", type=str, default=\"./config/train_rnn.yml\", help=\"hparams config file\")\n",
    "args, unknown = parser.parse_known_args()  # Игнорирует нераспознанные аргументы\n",
    "cfg = load_config(args.hparams)"
   ]
  },
  {
   "cell_type": "code",
   "execution_count": 4,
   "id": "7e7b78ba-5022-4d94-9e9b-063b623b634d",
   "metadata": {},
   "outputs": [
    {
     "data": {
      "text/plain": [
       "{'data_dir': 'F:/ISSAI_KSC2_unpacked/DIHARD_DATA_INFO/CONCATED_DFS_k_2.csv',\n",
       " 'csv_file': True,\n",
       " 'total_percent': 0.0005,\n",
       " 'train_percent': 0.8,\n",
       " 'valid_percent': 0.1,\n",
       " 'test_percent': 0.1,\n",
       " 'num_workers': 6,\n",
       " 'batch_size': 1,\n",
       " 'pin_memory': True,\n",
       " 'seed': 42,\n",
       " 'sample_rate': 16000,\n",
       " 'chunk_size': 32000,\n",
       " 'least_size': 16000}"
      ]
     },
     "execution_count": 4,
     "metadata": {},
     "output_type": "execute_result"
    }
   ],
   "source": [
    "cfg['data']"
   ]
  },
  {
   "cell_type": "code",
   "execution_count": null,
   "id": "55b9e804-b59b-414d-87d7-7821d1df20f7",
   "metadata": {},
   "outputs": [
    {
     "name": "stdout",
     "output_type": "stream",
     "text": [
      "Size of training set: 103\n",
      "Elapsed time 'setup': 00:00:00.21\n"
     ]
    }
   ],
   "source": [
    "datamodule = AudioDataModule(**cfg['data'])\n",
    "datamodule.setup(stage = 'train')\n",
    "dataloaders = {'train': datamodule.train_dataloader(), 'valid': datamodule.val_dataloader()}"
   ]
  },
  {
   "cell_type": "markdown",
   "id": "be8200bc-8f82-457a-8b37-3d53234c5aa5",
   "metadata": {},
   "source": [
    "#### Training "
   ]
  },
  {
   "cell_type": "code",
   "execution_count": null,
   "id": "e0a2ddf6-576a-499d-ab6a-8374bfa655df",
   "metadata": {},
   "outputs": [],
   "source": [
    "import os\n",
    "import torch\n",
    "import torchmetrics\n",
    "import argparse\n",
    "from pathlib import Path\n",
    "from torch.utils.tensorboard import SummaryWriter as TensorBoard\n",
    "\n",
    "from utils.load_config import load_config \n",
    "from utils.training import metadata_info, configure_optimizer\n",
    "from utils.measure_time import measure_time\n",
    "from utils.training import p_output_log \n",
    "from model.model_rnn import Dual_RNN_model\n",
    "from losses import loss as Loss"
   ]
  },
  {
   "cell_type": "code",
   "execution_count": null,
   "id": "0ad7ed87-deee-47da-a710-8c2c223abaef",
   "metadata": {},
   "outputs": [],
   "source": [
    "torch.backends.cuda.matmul.allow_tf32 = True\n",
    "torch.backends.cudnn.allow_tf32 = True\n",
    "torch.set_float32_matmul_precision('medium')"
   ]
  },
  {
   "cell_type": "code",
   "execution_count": null,
   "id": "aefc9f9b-5102-417f-a0f8-44c4fd09120c",
   "metadata": {},
   "outputs": [],
   "source": [
    "cfg['model']"
   ]
  },
  {
   "cell_type": "code",
   "execution_count": 10,
   "id": "3d0153db-beee-46aa-82a6-c53d5ae69a73",
   "metadata": {},
   "outputs": [],
   "source": [
    "model = Dual_RNN_model(**cfg['model'])"
   ]
  },
  {
   "cell_type": "code",
   "execution_count": 11,
   "id": "2ae9ec3c-2f76-42d1-bc27-2bf95a5a058d",
   "metadata": {},
   "outputs": [
    {
     "name": "stdout",
     "output_type": "stream",
     "text": [
      "Trainable parametrs: 2633729\n",
      "Size of model: 10.05 MB, in float32 \n",
      "\n"
     ]
    }
   ],
   "source": [
    "metadata_info(model)\n",
    "writer = TensorBoard(f'tb_logs/{Path(args.hparams).stem}', comment = f\"{cfg['trainer']['ckpt_folder']}\")\n",
    "optimizer = configure_optimizer (cfg, model)"
   ]
  },
  {
   "cell_type": "code",
   "execution_count": 12,
   "id": "826a4cc1-28bd-4edc-b62e-9c2df6909ef7",
   "metadata": {},
   "outputs": [
    {
     "data": {
      "text/plain": [
       "{'num_epochs': 100,\n",
       " 'device': 'cuda',\n",
       " 'best_weights': False,\n",
       " 'checkpointing': False,\n",
       " 'checkpoint_interval': 5,\n",
       " 'model_name': 'Dual_Path_RNN',\n",
       " 'path_to_weights': './weights',\n",
       " 'ckpt_folder': './checkpoints/train_rnn',\n",
       " 'speaker_num': 2,\n",
       " 'resume': False}"
      ]
     },
     "execution_count": 12,
     "metadata": {},
     "output_type": "execute_result"
    }
   ],
   "source": [
    "cfg['trainer']"
   ]
  },
  {
   "cell_type": "code",
   "execution_count": null,
   "id": "b48ccb9a-1540-44b2-9313-3a2b9cb7483d",
   "metadata": {},
   "outputs": [],
   "source": [
    "# Получение первого батча данных из DataLoader\n",
    "dataloader = dataloaders['train'] \n",
    "sample_mix, sample_refs = next(iter(dataloader))  # Используем iter и next для доступа к данным\n",
    "print(sample_mix)\n",
    "print(sample_refs)"
   ]
  },
  {
   "cell_type": "code",
   "execution_count": null,
   "id": "d2ad2929-25a6-4b01-abdf-275000bae4ef",
   "metadata": {},
   "outputs": [],
   "source": [
    "# dataloader = dataloaders['train'] "
   ]
  },
  {
   "cell_type": "code",
   "execution_count": 13,
   "id": "64fe7bda-8dc8-4dca-be9e-a19f800e16d5",
   "metadata": {},
   "outputs": [],
   "source": [
    "class Trainer:\n",
    "    def __init__(self, num_epochs = 100, device='cuda', best_weights = False, checkpointing = False, \n",
    "                 checkpoint_interval = 10, model_name = '', path_to_weights= './weights', ckpt_folder = '',\n",
    "                 speaker_num = 2, resume = False) -> None:\n",
    "        self.num_epochs = num_epochs\n",
    "        self.device = device\n",
    "        self.best_weights = best_weights\n",
    "        self.checkpointing = checkpointing\n",
    "        self.checkpoint_interval = checkpoint_interval\n",
    "        self.model_name = model_name\n",
    "        os.makedirs(path_to_weights, exist_ok=True)\n",
    "        self.path_to_weights = path_to_weights\n",
    "        self.ckpt_folder = ckpt_folder\n",
    "        self.speaker_num = speaker_num\n",
    "        self.resume = resume\n",
    "\n",
    "    @measure_time\n",
    "    def fit(self, model, dataloaders, criterion, optimizer, writer) -> None:\n",
    "        model.to(self.device)\n",
    "        min_val_loss = float('inf')\n",
    "        for epoch in range(self.num_epochs):\n",
    "            for phase in ['train', 'valid']:\n",
    "                model.train() if phase == 'train' else model.eval()\n",
    "                dataloader = dataloaders[phase] \n",
    "                running_loss = 0.0\n",
    "                print('stop')\n",
    "                for inputs, labels in tqdm(dataloader):\n",
    "                    print(inputs.shape)\n",
    "                    print(labels.shape)\n",
    "                    inputs, labels = inputs.to(self.device), labels.to(self.device)\n",
    "                    with torch.set_grad_enabled(phase == 'train'):\n",
    "                        outputs = model(inputs)\n",
    "                        loss = criterion(outputs, labels)\n",
    "                        if phase == 'train':\n",
    "                            optimizer.zero_grad()\n",
    "                            loss.backward()\n",
    "                            optimizer.step()\n",
    "                    running_loss += loss.item() * inputs.size(0)\n",
    "                \n",
    "                epoch_loss = running_loss / len(dataloader.dataset)\n",
    "                p_output_log(self.num_epochs, epoch, epoch_loss)"
   ]
  },
  {
   "cell_type": "code",
   "execution_count": null,
   "id": "35f98e52-44e3-47e1-a921-676219548905",
   "metadata": {},
   "outputs": [
    {
     "name": "stdout",
     "output_type": "stream",
     "text": [
      "stop\n"
     ]
    },
    {
     "data": {
      "application/vnd.jupyter.widget-view+json": {
       "model_id": "371d8b7aadcf4aaf8b790a5c38e2fec4",
       "version_major": 2,
       "version_minor": 0
      },
      "text/plain": [
       "  0%|          | 0/41 [00:00<?, ?it/s]"
      ]
     },
     "metadata": {},
     "output_type": "display_data"
    }
   ],
   "source": [
    "Trainer(**cfg['trainer']).fit(model, dataloaders, Loss, optimizer, writer)"
   ]
  }
 ],
 "metadata": {
  "kernelspec": {
   "display_name": "Python 3 (ipykernel)",
   "language": "python",
   "name": "python3"
  },
  "language_info": {
   "codemirror_mode": {
    "name": "ipython",
    "version": 3
   },
   "file_extension": ".py",
   "mimetype": "text/x-python",
   "name": "python",
   "nbconvert_exporter": "python",
   "pygments_lexer": "ipython3",
   "version": "3.9.0"
  }
 },
 "nbformat": 4,
 "nbformat_minor": 5
}
