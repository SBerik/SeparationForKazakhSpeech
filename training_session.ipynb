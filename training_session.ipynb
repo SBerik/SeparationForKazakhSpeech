{
 "cells": [
  {
   "cell_type": "code",
   "execution_count": 1,
   "id": "7f538b6d-6ccf-4847-bc63-cec1a35608f8",
   "metadata": {},
   "outputs": [],
   "source": [
    "import argparse\n",
    "import sys\n",
    "from utils.load_config import load_config  \n",
    "\n",
    "parser = argparse.ArgumentParser()\n",
    "parser.add_argument(\"-p\", \"--hparams\", type=str, default=\"./configs/train_rnn.yml\", help=\"hparams config file\")\n",
    "args, unknown = parser.parse_known_args()  # Игнорирует нераспознанные аргументы"
   ]
  },
  {
   "cell_type": "code",
   "execution_count": 2,
   "id": "dfeb981a-28d9-45d3-9406-20e045f305c1",
   "metadata": {},
   "outputs": [
    {
     "name": "stdout",
     "output_type": "stream",
     "text": [
      "Size of training set: 1371\n",
      "Size of validation set: 178\n",
      "Elapsed time 'setup': 00:00:01.83\n",
      "Trainable parametrs: 2633729\n",
      "Size of model: 10.05 MB, in float32\n"
     ]
    }
   ],
   "source": [
    "import os\n",
    "import argparse\n",
    "from pathlib import Path\n",
    "\n",
    "import torch\n",
    "import torchmetrics\n",
    "from torch.utils.tensorboard import SummaryWriter as TensorBoard\n",
    "from tqdm.notebook import tqdm\n",
    "\n",
    "from losses import sisnr_loss, sdr_loss\n",
    "from utils.load_config import load_config \n",
    "from utils.training import metadata_info, configure_optimizer, p_output_log\n",
    "from utils.measure_time import measure_time\n",
    "from models import MODELS\n",
    "from data.DiarizationDataset import DiarizationDataset\n",
    "\n",
    "\n",
    "torch.cuda.empty_cache()\n",
    "torch.backends.cuda.matmul.allow_tf32 = True\n",
    "torch.backends.cudnn.allow_tf32 = True\n",
    "torch.set_float32_matmul_precision('medium')\n",
    "\n",
    "cfg = load_config(args.hparams)\n",
    "datamodule = DiarizationDataset(**cfg['data']).setup(stage = 'train')\n",
    "dataloaders = {'train': datamodule.train_dataloader(), 'valid': datamodule.val_dataloader()}\n",
    "model_class = MODELS[cfg['xp_config']['model_type']]\n",
    "model = model_class(**cfg['model'])\n",
    "metadata_info(model)\n",
    "writer = TensorBoard(f'tb_logs/{Path(args.hparams).stem}', comment = f\"{cfg['trainer']['ckpt_folder']}\")\n",
    "optimizer = configure_optimizer (cfg, model)"
   ]
  },
  {
   "cell_type": "code",
   "execution_count": 3,
   "id": "9ae8fd55-788c-484d-87f3-a518a9f5b147",
   "metadata": {},
   "outputs": [],
   "source": [
    "from utils.checkpointer import Checkpointer\n",
    "from utils.training import *\n",
    "\n",
    "\n",
    "class Trainer:\n",
    "    def __init__(self, num_epochs = 100, device='cuda', best_weights = False, checkpointing = False, \n",
    "                 checkpoint_interval = 10, model_name = '', trained_model = './', path_to_weights= './weights', \n",
    "                 ckpt_folder = '', speaker_num = 2, resume = False) -> None:\n",
    "        self.num_epochs = num_epochs\n",
    "        self.device = device\n",
    "        self.best_weights = best_weights\n",
    "        self.ckpointer = Checkpointer(model_name, path_to_weights, ckpt_folder, metrics = False)\n",
    "        self.checkpointing = checkpointing\n",
    "        self.checkpoint_interval = checkpoint_interval\n",
    "        self.model_name = model_name\n",
    "        os.makedirs(path_to_weights, exist_ok=True)\n",
    "        self.path_to_weights = path_to_weights\n",
    "        self.ckpt_folder = ckpt_folder\n",
    "        self.speaker_num = speaker_num\n",
    "        self.resume = resume\n",
    "        self.trained_model = trained_model\n",
    "\n",
    "    @measure_time\n",
    "    def fit(self, model, dataloaders, criterion, optimizer, writer) -> None:\n",
    "        model.to(self.device)\n",
    "        start_epoch, min_val_loss, model, optimizer = self.load_pretrained_model(model, optimizer)\n",
    "        epoch_state = EpochState(metrics = None)\n",
    "        for epoch in tqdm(range(start_epoch, self.num_epochs)):\n",
    "            for phase in ['train', 'valid']:\n",
    "                model.train() if phase == 'train' else model.eval()\n",
    "                dataloader = dataloaders[phase] \n",
    "                running_loss = 0.0\n",
    "                for inputs, labels in dataloader:\n",
    "                    inputs, labels = inputs.to(self.device), [l.to(self.device) for l in labels]\n",
    "                    with torch.set_grad_enabled(phase == 'train'):\n",
    "                        outputs = model(inputs)\n",
    "                        loss = criterion(outputs, labels)\n",
    "                        if phase == 'train':\n",
    "                            optimizer.zero_grad()\n",
    "                            loss.backward()\n",
    "                            optimizer.step()\n",
    "                    running_loss += loss.item()\n",
    "                epoch_loss = running_loss / len(dataloader.dataset)\n",
    "                epoch_state.update_state(epoch_loss, phase)\n",
    "                p_output_log(self.num_epochs, epoch, phase, epoch_state)\n",
    "                \n",
    "                if phase == 'valid' and self.best_weights and epoch_loss < min_val_loss:\n",
    "                    min_val_loss = epoch_loss\n",
    "                    self.ckpointer.save_best_weight(model, optimizer, epoch, epoch_state)\n",
    "            \n",
    "            torch_logger(writer, epoch, epoch_state)\n",
    "            \n",
    "            if self.checkpointing and (epoch + 1) % self.checkpoint_interval == 0:\n",
    "                self.ckpointer.save_checkpoint(model, optimizer, epoch, epoch_state)\n",
    "\n",
    "    def load_pretrained_model(self, model, optimizer):\n",
    "        if self.trained_model:\n",
    "            print(f\"Load pretrained mode: {self.trained_model}\", '\\n')\n",
    "            checkpoint = torch.load(self.trained_model, map_location=self.device, weights_only=False)\n",
    "            model.load_state_dict(checkpoint['model_state_dict'])\n",
    "            optimizer.load_state_dict(checkpoint['optimizer_state_dict'])\n",
    "            return checkpoint['epoch'] + 1, checkpoint['val_loss'] , model, optimizer\n",
    "        else:\n",
    "            return 0, float('inf'), model, optimizer"
   ]
  },
  {
   "cell_type": "code",
   "execution_count": 4,
   "id": "2388aa63-ec14-4c63-a35c-0521818336e4",
   "metadata": {},
   "outputs": [
    {
     "data": {
      "application/vnd.jupyter.widget-view+json": {
       "model_id": "00a7775c46d84e4480d28855774155f3",
       "version_major": 2,
       "version_minor": 0
      },
      "text/plain": [
       "  0%|          | 0/200 [00:00<?, ?it/s]"
      ]
     },
     "metadata": {},
     "output_type": "display_data"
    },
    {
     "name": "stdout",
     "output_type": "stream",
     "text": [
      "Epoch 1/200\n",
      "TRAIN, Loss: -0.0333\n",
      "VALID, Loss: -0.0854\n",
      "------------------------------------------------------------------------------------------------------------ \n",
      "\n"
     ]
    },
    {
     "ename": "KeyboardInterrupt",
     "evalue": "",
     "output_type": "error",
     "traceback": [
      "\u001b[1;31m---------------------------------------------------------------------------\u001b[0m",
      "\u001b[1;31mKeyboardInterrupt\u001b[0m                         Traceback (most recent call last)",
      "Cell \u001b[1;32mIn[4], line 1\u001b[0m\n\u001b[1;32m----> 1\u001b[0m \u001b[43mTrainer\u001b[49m\u001b[43m(\u001b[49m\u001b[38;5;241;43m*\u001b[39;49m\u001b[38;5;241;43m*\u001b[39;49m\u001b[43mcfg\u001b[49m\u001b[43m[\u001b[49m\u001b[38;5;124;43m'\u001b[39;49m\u001b[38;5;124;43mtrainer\u001b[39;49m\u001b[38;5;124;43m'\u001b[39;49m\u001b[43m]\u001b[49m\u001b[43m)\u001b[49m\u001b[38;5;241;43m.\u001b[39;49m\u001b[43mfit\u001b[49m\u001b[43m(\u001b[49m\u001b[43mmodel\u001b[49m\u001b[43m,\u001b[49m\u001b[43m \u001b[49m\n\u001b[0;32m      2\u001b[0m \u001b[43m                              \u001b[49m\u001b[43mdataloaders\u001b[49m\u001b[43m,\u001b[49m\u001b[43m \u001b[49m\n\u001b[0;32m      3\u001b[0m \u001b[43m                              \u001b[49m\u001b[43msisnr_loss\u001b[49m\u001b[43m,\u001b[49m\u001b[43m \u001b[49m\n\u001b[0;32m      4\u001b[0m \u001b[43m                              \u001b[49m\u001b[43moptimizer\u001b[49m\u001b[43m,\u001b[49m\u001b[43m \u001b[49m\n\u001b[0;32m      5\u001b[0m \u001b[43m                              \u001b[49m\u001b[43mwriter\u001b[49m\u001b[43m)\u001b[49m\n",
      "File \u001b[1;32m~\\Diploma\\DiarizationForKazakhSpeech\\utils\\measure_time.py:15\u001b[0m, in \u001b[0;36mmeasure_time.<locals>.wrapper\u001b[1;34m(*args, **kwargs)\u001b[0m\n\u001b[0;32m     13\u001b[0m \u001b[38;5;28;01mdef\u001b[39;00m \u001b[38;5;21mwrapper\u001b[39m(\u001b[38;5;241m*\u001b[39margs, \u001b[38;5;241m*\u001b[39m\u001b[38;5;241m*\u001b[39mkwargs):\n\u001b[0;32m     14\u001b[0m     start_time \u001b[38;5;241m=\u001b[39m t\u001b[38;5;241m.\u001b[39mtime()\n\u001b[1;32m---> 15\u001b[0m     result \u001b[38;5;241m=\u001b[39m func(\u001b[38;5;241m*\u001b[39margs, \u001b[38;5;241m*\u001b[39m\u001b[38;5;241m*\u001b[39mkwargs)\n\u001b[0;32m     16\u001b[0m     end_time \u001b[38;5;241m=\u001b[39m t\u001b[38;5;241m.\u001b[39mtime()\n\u001b[0;32m     17\u001b[0m     elapsed_time \u001b[38;5;241m=\u001b[39m end_time \u001b[38;5;241m-\u001b[39m start_time\n",
      "Cell \u001b[1;32mIn[3], line 49\u001b[0m, in \u001b[0;36mTrainer.fit\u001b[1;34m(self, model, dataloaders, criterion, optimizer, writer)\u001b[0m\n\u001b[0;32m     46\u001b[0m             loss\u001b[38;5;241m.\u001b[39mbackward()\n\u001b[0;32m     47\u001b[0m             optimizer\u001b[38;5;241m.\u001b[39mstep()\n\u001b[1;32m---> 49\u001b[0m     running_loss \u001b[38;5;241m+\u001b[39m\u001b[38;5;241m=\u001b[39m \u001b[43mloss\u001b[49m\u001b[38;5;241;43m.\u001b[39;49m\u001b[43mitem\u001b[49m\u001b[43m(\u001b[49m\u001b[43m)\u001b[49m\n\u001b[0;32m     52\u001b[0m epoch_loss \u001b[38;5;241m=\u001b[39m running_loss \u001b[38;5;241m/\u001b[39m \u001b[38;5;28mlen\u001b[39m(dataloader\u001b[38;5;241m.\u001b[39mdataset)\n\u001b[0;32m     53\u001b[0m epoch_state\u001b[38;5;241m.\u001b[39mupdate_state(epoch_loss, phase)\n",
      "\u001b[1;31mKeyboardInterrupt\u001b[0m: "
     ]
    }
   ],
   "source": [
    "Trainer(**cfg['trainer']).fit(model, \n",
    "                              dataloaders, \n",
    "                              sisnr_loss, \n",
    "                              optimizer, \n",
    "                              writer)"
   ]
  },
  {
   "cell_type": "code",
   "execution_count": null,
   "id": "5c86f3e5-7d6f-4651-bd5f-c239a8563832",
   "metadata": {},
   "outputs": [],
   "source": [
    "# -0.4693\n",
    "# VALID, Loss: -0.6935"
   ]
  }
 ],
 "metadata": {
  "kernelspec": {
   "display_name": "Python 3 (ipykernel)",
   "language": "python",
   "name": "python3"
  },
  "language_info": {
   "codemirror_mode": {
    "name": "ipython",
    "version": 3
   },
   "file_extension": ".py",
   "mimetype": "text/x-python",
   "name": "python",
   "nbconvert_exporter": "python",
   "pygments_lexer": "ipython3",
   "version": "3.9.0"
  }
 },
 "nbformat": 4,
 "nbformat_minor": 5
}
