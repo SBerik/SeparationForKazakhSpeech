{
 "cells": [
  {
   "cell_type": "code",
   "execution_count": 11,
   "id": "7b70f5e6-d3f2-4234-9515-30da7785e8d1",
   "metadata": {},
   "outputs": [],
   "source": [
    "import pandas as pd"
   ]
  },
  {
   "cell_type": "code",
   "execution_count": 12,
   "id": "a59ba520-64d3-4fb1-b372-1d3824dce69e",
   "metadata": {},
   "outputs": [],
   "source": [
    "df_path = \"F:/ISSAI_KSC2_unpacked/DIHARD_DATA_INFO/CONCATED_DFS_k_2.csv\"\n",
    "df = pd.read_csv(df_path)"
   ]
  },
  {
   "cell_type": "code",
   "execution_count": 14,
   "id": "e1900bd6-5221-44ea-890b-7b2248e47a2a",
   "metadata": {},
   "outputs": [
    {
     "name": "stdout",
     "output_type": "stream",
     "text": [
      "mixed_audio\n",
      "audio_1\n",
      "audio_2\n"
     ]
    }
   ],
   "source": [
    "# Перебор всех значений во втором столбце \n",
    "for value in df: \n",
    "    print(value)"
   ]
  },
  {
   "cell_type": "code",
   "execution_count": null,
   "id": "84b6a1ec-ef15-42d0-b757-c3fbbead2a37",
   "metadata": {},
   "outputs": [],
   "source": [
    "mixed_audio,audio_1,audio_2\n",
    "F:/ISSAI_KSC2_unpacked/mixed_2/412833_5f71044e1c635.flac,F:/ISSAI_KSC2_unpacked/trimmed/Test/tv_news/412833.flac,F:/ISSAI_KSC2_unpacked/trimmed/Train/tv_news/5f71044e1c635.flac\n"
   ]
  }
 ],
 "metadata": {
  "kernelspec": {
   "display_name": "Python 3 (ipykernel)",
   "language": "python",
   "name": "python3"
  },
  "language_info": {
   "codemirror_mode": {
    "name": "ipython",
    "version": 3
   },
   "file_extension": ".py",
   "mimetype": "text/x-python",
   "name": "python",
   "nbconvert_exporter": "python",
   "pygments_lexer": "ipython3",
   "version": "3.9.0"
  }
 },
 "nbformat": 4,
 "nbformat_minor": 5
}
