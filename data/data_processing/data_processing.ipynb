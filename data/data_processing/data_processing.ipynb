{
 "cells": [
  {
   "cell_type": "code",
   "execution_count": 1,
   "id": "edb38771-56e7-450c-a733-03c226d694cc",
   "metadata": {},
   "outputs": [],
   "source": [
    "import shutil\n",
    "import re \n",
    "from glob import glob\n",
    "import os\n",
    "from tqdm import tqdm\n",
    "\n",
    "import librosa\n",
    "import soundfile as sf\n",
    "import numpy as np \n",
    "import random\n",
    "import pandas as pd\n",
    "\n",
    "from functional import *\n",
    "from overlap import get_trimmed_sample, overlap_using_min"
   ]
  },
  {
   "cell_type": "code",
   "execution_count": 2,
   "id": "9b046d50-620f-4bfb-ba3a-481f61859f04",
   "metadata": {},
   "outputs": [],
   "source": [
    "sr = 16000"
   ]
  },
  {
   "cell_type": "code",
   "execution_count": 3,
   "id": "81e7b9dc-1619-419c-aa1d-ea8213ec82b7",
   "metadata": {},
   "outputs": [],
   "source": [
    "paths = {\"sample1\": \"C:/Users/b.smadiarov/Diploma/DualPathRNN/data/samples/5ed8a1c0f3ea2.flac\",\n",
    "         \"sample2\": \"C:/Users/b.smadiarov/Diploma/DualPathRNN/data/samples/5f2b0a06ceb18.flac\",\n",
    "         \n",
    "         'KS2': 'F:/ISSAI_KSC2_unpacked/ISSAI_KSC2/',\n",
    "         'root': 'F:/ISSAI_KSC2_unpacked',\n",
    "         \n",
    "         'src_csv': 'C:/Users/b.smadiarov/Diploma/VoiceDetectionForKazakhSpeech/data/annotation/Csv', \n",
    "\n",
    "         'trimmed': 'F:/ISSAI_KSC2_unpacked/trimmed', \n",
    "         \"mixed\": \"C:/Users/b.smadiarov/Diploma/DualPathRNN/data/mixed\", \n",
    "         \"samples\": \"C:/Users/b.smadiarov/Diploma/DualPathRNN/data/samples\"\n",
    "        }\n",
    "\n",
    "glob_paths = {'KS2_raw': 'F:/ISSAI_KSC2_unpacked/ISSAI_KSC2/**/**/*.flac',\n",
    "              \"mixed_csv\": \"C:/Users/b.smadiarov/Diploma/DualPathRNN/data/mixed/*.csv\",\n",
    "              \"mixed_flac\": \"C:/Users/b.smadiarov/Diploma/DualPathRNN/data/mixed/*.flac\",\n",
    "\n",
    "              \"f_real_flac\": 'F:/ISSAI_KSC2_unpacked/trimmed/**/**/*.flac'\n",
    "             } "
   ]
  },
  {
   "cell_type": "markdown",
   "id": "b6bd2aaf-2116-4054-88f9-b56ad3e71266",
   "metadata": {},
   "source": [
    "#### Generate samples"
   ]
  },
  {
   "cell_type": "markdown",
   "id": "70c29d2a-d651-4f99-a879-4e21fd6c5d91",
   "metadata": {},
   "source": [
    "- Сначала мы убираем все таки кусочки где начало и конец. И сохраняем все такие файлы в папку targets/\n",
    "- Затем уже на имеющимся файлами делаем.\n",
    "\n",
    "ToDO: \n",
    "- Короткие записи сливались с короткими записями.\n",
    "\n",
    "Критерий: нету посторонних звуков \n",
    "1. tts - только для text_to_speech\n",
    "2. Самый лучший crowdsourced,\n",
    "3. tv_news: эпортаж это обычно речь \n",
    "4. parlament: т.к. кричат с требун  \n",
    "5. Ужасные - radio: т.к. играет вечно музыка, talkshow - тоже какая то дичь, podcast - казахские подкасты это не подкасты а радио.\n",
    "\n",
    "Замечание: Выбери какие тебе подойдут для лейблов. Но если не подойдет то можно читать датафрейм и искать все такие видео которые имеют три интервала - \"не говорит, говорит, не говорит\" - поэтому ты и выбрал crowdsourced."
   ]
  },
  {
   "cell_type": "code",
   "execution_count": 4,
   "id": "3730c1aa-85c8-47fa-9f93-f83f0c9a62c8",
   "metadata": {},
   "outputs": [
    {
     "data": {
      "application/vnd.jupyter.widget-view+json": {
       "model_id": "d46e3e6275c9474a9da920fb758fbec0",
       "version_major": 2,
       "version_minor": 0
      },
      "text/plain": [
       "  0%|          | 0/645860 [00:00<?, ?it/s]"
      ]
     },
     "metadata": {},
     "output_type": "display_data"
    },
    {
     "name": "stdout",
     "output_type": "stream",
     "text": [
      "Dataset total len: 516458\n"
     ]
    }
   ],
   "source": [
    "tracklist = get_audios_with_folder_name(['crowdsourced', 'tts', 'tv_news'], glob_paths['KS2_raw'])\n",
    "print('Dataset total len:', len(tracklist))"
   ]
  },
  {
   "cell_type": "markdown",
   "id": "bbec1ae2-a94d-46ba-80a6-4844cac888e0",
   "metadata": {},
   "source": [
    "Кроме памяти (мне ее жалко) и так же в аннотационных файлах указана путь до файла. Поэтому что бы придестеречься \n",
    "я решил оставить все как есть."
   ]
  },
  {
   "cell_type": "markdown",
   "id": "221fc464-21f5-4b4b-88d7-e66c1d72c5cc",
   "metadata": {},
   "source": [
    "**1. Убираем начало и конец.**"
   ]
  },
  {
   "cell_type": "code",
   "execution_count": 5,
   "id": "d5fb8e59-230b-42ff-ad81-a9dcc74a27ab",
   "metadata": {},
   "outputs": [
    {
     "data": {
      "application/vnd.jupyter.widget-view+json": {
       "model_id": "db2c55d5700f492b932aeaab97b26752",
       "version_major": 2,
       "version_minor": 0
      },
      "text/plain": [
       "  0%|          | 0/516458 [00:00<?, ?it/s]"
      ]
     },
     "metadata": {},
     "output_type": "display_data"
    }
   ],
   "source": [
    "for t in tqdm(tracklist):\n",
    "    trimmed_audio = get_trimmed_sample(t, sr, paths['src_csv'])\n",
    "    folder = t.replace(\"ISSAI_KSC2/\", \"trimmed/\").replace(f\"/{get_file_name (t)}.flac\", '')\n",
    "    os.makedirs(folder, exist_ok=True)\n",
    "    path_to_save = folder + f\"/{get_file_name (t)}.flac\"\n",
    "    sf.write(path_to_save, trimmed_audio, samplerate = sr)"
   ]
  },
  {
   "cell_type": "markdown",
   "id": "79a522e8-b6bd-41d5-b923-9311b092c03d",
   "metadata": {},
   "source": [
    "**2. Объединяем аудиодорожки**"
   ]
  },
  {
   "cell_type": "markdown",
   "id": "bd5d5d7b-cbf5-4cc2-b6ed-f707de4bdfdd",
   "metadata": {},
   "source": [
    "Число класстеров"
   ]
  },
  {
   "cell_type": "code",
   "execution_count": 4,
   "id": "41742431-8c6e-4eaf-80bd-9c850151f1f2",
   "metadata": {},
   "outputs": [],
   "source": [
    "k = 2\n",
    "seed = k"
   ]
  },
  {
   "cell_type": "markdown",
   "id": "41ee4c5b-f9bb-4453-9226-135c2a5ae608",
   "metadata": {},
   "source": [
    "_Seed_ зависит от числа кластеров. Это сделанно для того что бы добавить не предусмотренность. Но таким образом есть опасность что модель просто выучит голоса нежели начнет, как будто для каждого числа класстера можно брать разный датасет. \n",
    "\n",
    "Перемешивать нужно для того \"говорящие\" не шли одним за другим.\n"
   ]
  },
  {
   "cell_type": "code",
   "execution_count": 5,
   "id": "663757a8-585b-4fec-9b19-0824c4a89009",
   "metadata": {},
   "outputs": [],
   "source": [
    "tracklist = glob(glob_paths['f_real_flac'])"
   ]
  },
  {
   "cell_type": "code",
   "execution_count": 6,
   "id": "bd473e47-93ea-40bf-a846-bb9571c4876a",
   "metadata": {},
   "outputs": [],
   "source": [
    "random.seed(seed)\n",
    "np.random.seed(seed)\n",
    "random.shuffle(tracklist)"
   ]
  },
  {
   "cell_type": "code",
   "execution_count": 7,
   "id": "a070fec6-db10-4d37-946c-17f602344549",
   "metadata": {},
   "outputs": [
    {
     "data": {
      "application/vnd.jupyter.widget-view+json": {
       "model_id": "9680ec84f5fc4309b615462cbf9bbd80",
       "version_major": 2,
       "version_minor": 0
      },
      "text/plain": [
       "  0%|          | 0/258229 [00:00<?, ?it/s]"
      ]
     },
     "metadata": {},
     "output_type": "display_data"
    }
   ],
   "source": [
    "os.makedirs(f\"{paths['root']}/mixed_{k}\", exist_ok=True)\n",
    "\n",
    "# Этот метод не нравится т.к. хочется что бы дорожка была как можно длинее.\n",
    "# То есть аудио с одинаковой длины объединялись с одинаковыми аудио. \n",
    "for i in tqdm(range(0, len(tracklist), k)):\n",
    "    tracks = tracklist[i:i+k]\n",
    "    tracks = sorted(tracks)\n",
    "    overlay = overlap_using_min(tracks)\n",
    "    audio_names = \"_\".join([get_file_name(t) for t in tracks])\n",
    "    audio_name = f\"{paths['root']}/mixed_{k}/{audio_names}.flac\"\n",
    "    sf.write(f\"{audio_name}\", overlay, samplerate=16000)\n",
    "    df = pd.DataFrame({'mixed_audio': [audio_name], **{f'audio_{j+1}': [t.replace('\\\\', '/')] for j, t in enumerate(tracks)}})\n",
    "    df.to_csv(f\"{audio_name.replace('.flac', '.csv')}\", index=False)"
   ]
  },
  {
   "cell_type": "code",
   "execution_count": 12,
   "id": "4b8f87a3-c45d-438c-b73f-a03c4b0aebfb",
   "metadata": {},
   "outputs": [
    {
     "name": "stdout",
     "output_type": "stream",
     "text": [
      "258229\n"
     ]
    },
    {
     "data": {
      "application/vnd.jupyter.widget-view+json": {
       "model_id": "6ed263f80d3e4de9b67149595b59acb1",
       "version_major": 2,
       "version_minor": 0
      },
      "text/plain": [
       "  0%|          | 0/258229 [00:00<?, ?it/s]"
      ]
     },
     "metadata": {},
     "output_type": "display_data"
    }
   ],
   "source": [
    "# Get full dataset DF\n",
    "annotations = glob(f\"F:/ISSAI_KSC2_unpacked/mixed_{k}/*.csv\")\n",
    "print(len(annotations))\n",
    "all_dfs = []\n",
    "for csv in tqdm(annotations):\n",
    "    df = pd.read_csv(csv)\n",
    "    all_dfs.append(df)\n",
    "\n",
    "concated_df = pd.concat(all_dfs).reset_index(drop=True)\n",
    "os.makedirs(f\"F:/ISSAI_KSC2_unpacked/DIHARD_DATA_INFO\", exist_ok=True)\n",
    "concated_df.to_csv(f\"F:/ISSAI_KSC2_unpacked/DIHARD_DATA_INFO/CONCATED_DFS_k_{k}.csv\", index=False)"
   ]
  },
  {
   "cell_type": "code",
   "execution_count": 13,
   "id": "0da758c9-998e-4a71-b309-f0f133e397a7",
   "metadata": {},
   "outputs": [
    {
     "name": "stdout",
     "output_type": "stream",
     "text": [
      "Mixed num files 258229 for k = 2 clusters\n"
     ]
    }
   ],
   "source": [
    "print(f\"Mixed num files {len(concated_df)} for k = {k} clusters\")"
   ]
  },
  {
   "cell_type": "code",
   "execution_count": null,
   "id": "ec3ff6dc-bc61-4c17-9cc4-5a7b38883ec9",
   "metadata": {},
   "outputs": [],
   "source": []
  }
 ],
 "metadata": {
  "kernelspec": {
   "display_name": "Python 3 (ipykernel)",
   "language": "python",
   "name": "python3"
  },
  "language_info": {
   "codemirror_mode": {
    "name": "ipython",
    "version": 3
   },
   "file_extension": ".py",
   "mimetype": "text/x-python",
   "name": "python",
   "nbconvert_exporter": "python",
   "pygments_lexer": "ipython3",
   "version": "3.9.0"
  }
 },
 "nbformat": 4,
 "nbformat_minor": 5
}
